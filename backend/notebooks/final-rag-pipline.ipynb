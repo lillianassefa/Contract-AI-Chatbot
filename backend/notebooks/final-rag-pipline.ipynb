{
 "cells": [
  {
   "cell_type": "code",
   "execution_count": 1,
   "metadata": {},
   "outputs": [],
   "source": [
    "# !pip install -q langchain\n",
    "# !pip install -q langchain_experimental langchain_openai"
   ]
  },
  {
   "cell_type": "code",
   "execution_count": 2,
   "metadata": {},
   "outputs": [],
   "source": [
    "# !pip install -q pypdf"
   ]
  },
  {
   "cell_type": "code",
   "execution_count": 3,
   "metadata": {},
   "outputs": [],
   "source": [
    "# !pip install chromadb"
   ]
  },
  {
   "cell_type": "code",
   "execution_count": 9,
   "metadata": {},
   "outputs": [],
   "source": [
    "from langchain.document_loaders import PyPDFLoader\n",
    "from langchain_experimental.text_splitter import SemanticChunker\n",
    "from langchain_openai.embeddings import OpenAIEmbeddings\n",
    "from langchain.text_splitter import CharacterTextSplitter\n",
    "\n",
    "text_splitter = SemanticChunker(embeddings=OpenAIEmbeddings(chunk_size= 800))\n",
    "\n",
    "\n",
    "loader = PyPDFLoader(\"/home/lillian/Documents/TenAcademy/week11/Contract-AI-Chatbot/backend/data/contract.pdf\")\n",
    "output =loader.load_and_split()"
   ]
  },
  {
   "cell_type": "code",
   "execution_count": 10,
   "metadata": {},
   "outputs": [
    {
     "name": "stdout",
     "output_type": "stream",
     "text": [
      "[R&G\n",
      "Draft\n",
      "12.__.2021]\n",
      "STOCK\n",
      "PURCHASE\n",
      "AGREEMENT\n",
      "BY\n",
      "AND\n",
      "AMONG\n",
      "[BUYER],\n",
      "[TARGET\n",
      "COMP ANY],\n",
      "THE\n",
      "SELLERS\n",
      "LISTED\n",
      "ON\n",
      "SCHEDULE\n",
      "I\n",
      "HERET O\n",
      "AND\n",
      "THE\n",
      "SELLERS’\n",
      "REPRESENT ATIVE\n",
      "NAMED\n",
      "HEREIN\n",
      "Dated\n",
      "as\n",
      "of\n",
      "[●]\n",
      "[This\n",
      "document\n",
      "is\n",
      "intended\n",
      "solely\n",
      "to\n",
      "facilitate\n",
      "discussions\n",
      "among\n",
      "the\n",
      "parties\n",
      "identified\n",
      "herein. \n",
      "Neither\n",
      "this\n",
      "document\n",
      "nor\n",
      "such\n",
      "discussions\n",
      "are\n",
      "intended\n",
      "to\n",
      "create,\n",
      "nor\n",
      "will\n",
      "either\n",
      "or\n",
      "both\n",
      "be \n",
      "deemed\n",
      "to\n",
      "create,\n",
      "a\n",
      "legally\n",
      "binding\n",
      "or\n",
      "enforceable\n",
      "offer\n",
      "or\n",
      "agreement\n",
      "of\n",
      "any\n",
      "type\n",
      "or\n",
      "nature, \n",
      "unless\n",
      "and\n",
      "until\n",
      "a\n",
      "definitive\n",
      "written\n",
      "agreement\n",
      "is\n",
      "executed\n",
      "and\n",
      "delivered\n",
      "by\n",
      "each\n",
      "of\n",
      "the\n",
      "parties \n",
      "hereto.\n",
      "This\n",
      "document\n",
      "shall\n",
      "be\n",
      "kept\n",
      "confidential\n",
      "pursuant\n",
      "to\n",
      "the\n",
      "terms\n",
      "of\n",
      "the\n",
      "Confidentiality \n",
      "Agreement\n",
      "entered\n",
      "into\n",
      "by\n",
      "the\n",
      "parties\n",
      "and,\n",
      "if\n",
      "applicable,\n",
      "its\n",
      "affiliates\n",
      "with\n",
      "respect\n",
      "to\n",
      "the\n",
      "subject \n",
      "matter\n",
      "hereof.]\n",
      "112923184_5\n"
     ]
    }
   ],
   "source": [
    "print(output[0].page_content)"
   ]
  },
  {
   "cell_type": "code",
   "execution_count": 6,
   "metadata": {},
   "outputs": [],
   "source": [
    "with open(\"/home/lillian/Documents/TenAcademy/week11/Contract-AI-Chatbot/backend/data/contract.txt\") as f:\n",
    "    doc = f.read()"
   ]
  },
  {
   "cell_type": "code",
   "execution_count": 14,
   "metadata": {},
   "outputs": [],
   "source": [
    "docs = text_splitter.create_documents([doc])\n",
    "# docs = text_splitter.create_documents(output)"
   ]
  },
  {
   "cell_type": "code",
   "execution_count": null,
   "metadata": {},
   "outputs": [
    {
     "name": "stdout",
     "output_type": "stream",
     "text": [
      "144\n"
     ]
    }
   ],
   "source": [
    "print(len(docs))"
   ]
  },
  {
   "cell_type": "code",
   "execution_count": 15,
   "metadata": {},
   "outputs": [],
   "source": [
    "import os\n",
    "\n",
    "import chromadb\n",
    "from langchain.retrievers import ContextualCompressionRetriever\n",
    "from langchain.retrievers.document_compressors import DocumentCompressorPipeline\n",
    "from langchain.retrievers.merger_retriever import MergerRetriever\n",
    "from langchain_community.document_transformers import (\n",
    "    EmbeddingsClusteringFilter,\n",
    "    EmbeddingsRedundantFilter,\n",
    ")\n",
    "from langchain_community.embeddings import HuggingFaceEmbeddings\n",
    "from langchain_community.vectorstores import Chroma\n",
    "\n",
    "\n"
   ]
  },
  {
   "cell_type": "code",
   "execution_count": 16,
   "metadata": {},
   "outputs": [
    {
     "name": "stderr",
     "output_type": "stream",
     "text": [
      "/home/lillian/.local/lib/python3.10/site-packages/torch/cuda/__init__.py:611: UserWarning: Can't initialize NVML\n",
      "  warnings.warn(\"Can't initialize NVML\")\n",
      "2024-03-01 22:12:51.014492: I tensorflow/core/util/port.cc:113] oneDNN custom operations are on. You may see slightly different numerical results due to floating-point round-off errors from different computation orders. To turn them off, set the environment variable `TF_ENABLE_ONEDNN_OPTS=0`.\n",
      "2024-03-01 22:12:51.123468: E external/local_xla/xla/stream_executor/cuda/cuda_dnn.cc:9261] Unable to register cuDNN factory: Attempting to register factory for plugin cuDNN when one has already been registered\n",
      "2024-03-01 22:12:51.123543: E external/local_xla/xla/stream_executor/cuda/cuda_fft.cc:607] Unable to register cuFFT factory: Attempting to register factory for plugin cuFFT when one has already been registered\n",
      "2024-03-01 22:12:51.126877: E external/local_xla/xla/stream_executor/cuda/cuda_blas.cc:1515] Unable to register cuBLAS factory: Attempting to register factory for plugin cuBLAS when one has already been registered\n",
      "2024-03-01 22:12:51.148388: I tensorflow/core/platform/cpu_feature_guard.cc:182] This TensorFlow binary is optimized to use available CPU instructions in performance-critical operations.\n",
      "To enable the following instructions: AVX2 AVX512F AVX512_VNNI FMA, in other operations, rebuild TensorFlow with the appropriate compiler flags.\n",
      "2024-03-01 22:12:53.445258: W tensorflow/compiler/tf2tensorrt/utils/py_utils.cc:38] TF-TRT Warning: Could not find TensorRT\n",
      "/home/lillian/.local/lib/python3.10/site-packages/torch/_utils.py:831: UserWarning: TypedStorage is deprecated. It will be removed in the future and UntypedStorage will be the only storage class. This should only matter to you if you are using storages directly.  To access UntypedStorage directly, use tensor.untyped_storage() instead of tensor.storage()\n",
      "  return self.fget.__get__(instance, owner)()\n"
     ]
    }
   ],
   "source": [
    "all_mini = HuggingFaceEmbeddings(model_name=\"all-MiniLM-L6-v2\")\n",
    "multi_qa_mini = HuggingFaceEmbeddings(model_name=\"multi-qa-MiniLM-L6-dot-v1\")"
   ]
  },
  {
   "cell_type": "code",
   "execution_count": 17,
   "metadata": {},
   "outputs": [],
   "source": [
    "# !pip install --upgrade sentence-transformers"
   ]
  },
  {
   "cell_type": "code",
   "execution_count": 18,
   "metadata": {},
   "outputs": [],
   "source": [
    "# ABS_PATH = os.path.dirname(os.path.abspath(__file__))  use for python script\n",
    "ABS_PATH = os.getcwd()\n",
    "DB_DIR = os.path.join(ABS_PATH, \"db\")"
   ]
  },
  {
   "cell_type": "code",
   "execution_count": 20,
   "metadata": {},
   "outputs": [
    {
     "name": "stdout",
     "output_type": "stream",
     "text": [
      "<class 'langchain_community.vectorstores.chroma.Chroma'>\n",
      "<class 'langchain_community.vectorstores.chroma.Chroma'>\n"
     ]
    }
   ],
   "source": [
    "embeddings = OpenAIEmbeddings(chunk_size= 800)\n",
    "client_settings = chromadb.config.Settings(\n",
    "    is_persistent=True,\n",
    "    persist_directory= DB_DIR,\n",
    "    anonymized_telemetry=False,\n",
    ") \n",
    "db_all = Chroma(\n",
    "    collection_name= \"project_all\",\n",
    "    persist_directory=DB_DIR,\n",
    "    client_settings=client_settings,\n",
    "    embedding_function= all_mini,\n",
    ").from_documents(docs ,embeddings)\n",
    "db_multi_qa = Chroma(\n",
    "    collection_name=\"project_store_multi\",\n",
    "    persist_directory=DB_DIR,\n",
    "    client_settings=client_settings,\n",
    "    embedding_function=multi_qa_mini,\n",
    ").from_documents(docs, embeddings)\n",
    "print(type(db_all))\n",
    "print(type(db_multi_qa))"
   ]
  },
  {
   "cell_type": "code",
   "execution_count": null,
   "metadata": {},
   "outputs": [],
   "source": [
    "retriever_all = db_all.as_retriever(\n",
    "    search_type=\"similarity\", search_kwargs={\"k\": 5 }\n",
    ")\n",
    "retriever_multi_qa = db_multi_qa.as_retriever(\n",
    "    \n",
    "    search_type=\"mmr\", search_kwargs={\"k\": 5}\n",
    ")"
   ]
  },
  {
   "cell_type": "code",
   "execution_count": null,
   "metadata": {},
   "outputs": [],
   "source": [
    "lotr = MergerRetriever(retrievers=[retriever_all, retriever_multi_qa])"
   ]
  },
  {
   "cell_type": "code",
   "execution_count": null,
   "metadata": {},
   "outputs": [],
   "source": [
    "filter = EmbeddingsRedundantFilter(embeddings=embeddings)\n",
    "pipeline = DocumentCompressorPipeline(transformers=[filter])\n",
    "compression_retriever = ContextualCompressionRetriever(\n",
    "    base_compressor=pipeline, base_retriever=lotr\n",
    ")"
   ]
  },
  {
   "cell_type": "code",
   "execution_count": null,
   "metadata": {},
   "outputs": [],
   "source": [
    "filter_ordered_cluster = EmbeddingsClusteringFilter(\n",
    "    embeddings=embeddings,\n",
    "    num_clusters=10,\n",
    "    num_closest=1,\n",
    ")"
   ]
  },
  {
   "cell_type": "code",
   "execution_count": null,
   "metadata": {},
   "outputs": [],
   "source": [
    "filter_ordered_by_retriever = EmbeddingsClusteringFilter(\n",
    "    embeddings=embeddings,\n",
    "    num_clusters=10,\n",
    "    num_closest=1,\n",
    "    sorted=True,\n",
    ")"
   ]
  },
  {
   "cell_type": "code",
   "execution_count": null,
   "metadata": {},
   "outputs": [],
   "source": [
    "pipeline = DocumentCompressorPipeline(transformers=[filter_ordered_by_retriever])\n",
    "compression_retriever = ContextualCompressionRetriever(\n",
    "    base_compressor=pipeline, base_retriever=lotr\n",
    ")"
   ]
  },
  {
   "cell_type": "code",
   "execution_count": null,
   "metadata": {},
   "outputs": [],
   "source": [
    "from langchain_community.document_transformers import LongContextReorder\n",
    "\n",
    "filter = EmbeddingsRedundantFilter(embeddings=embeddings)\n",
    "reordering = LongContextReorder()\n",
    "\"\"\"Lost in the middle: Performance degrades when models \n",
    "must access relevant information in the middle of long contexts.\n",
    "\"\"\"\n",
    "pipeline = DocumentCompressorPipeline(transformers=[filter, reordering])\n",
    "compression_retriever_reordered = ContextualCompressionRetriever(\n",
    "    base_compressor=pipeline, base_retriever=lotr\n",
    ")"
   ]
  },
  {
   "cell_type": "code",
   "execution_count": null,
   "metadata": {},
   "outputs": [
    {
     "name": "stdout",
     "output_type": "stream",
     "text": [
      "<class 'langchain.retrievers.contextual_compression.ContextualCompressionRetriever'>\n"
     ]
    }
   ],
   "source": [
    "print(type(compression_retriever_reordered))"
   ]
  },
  {
   "cell_type": "code",
   "execution_count": null,
   "metadata": {},
   "outputs": [],
   "source": [
    "# from langchain_community.llms import Cohere"
   ]
  },
  {
   "cell_type": "code",
   "execution_count": null,
   "metadata": {},
   "outputs": [],
   "source": [
    "from langchain.chat_models import ChatOpenAI\n",
    "from langchain.llms import openai"
   ]
  },
  {
   "cell_type": "code",
   "execution_count": null,
   "metadata": {},
   "outputs": [
    {
     "name": "stderr",
     "output_type": "stream",
     "text": [
      "/home/lillian/anaconda3/envs/week11/lib/python3.12/site-packages/langchain_core/_api/deprecation.py:117: LangChainDeprecationWarning: The class `langchain_community.chat_models.openai.ChatOpenAI` was deprecated in langchain-community 0.0.10 and will be removed in 0.2.0. An updated version of the class exists in the langchain-openai package and should be used instead. To use it run `pip install -U langchain-openai` and import as `from langchain_openai import ChatOpenAI`.\n",
      "  warn_deprecated(\n"
     ]
    }
   ],
   "source": [
    "llm = ChatOpenAI(temperature=0, model_name=\"gpt-4\")"
   ]
  },
  {
   "cell_type": "code",
   "execution_count": null,
   "metadata": {},
   "outputs": [],
   "source": [
    "from langchain.memory import ConversationBufferWindowMemory\n",
    "from langchain.chains import ConversationalRetrievalChain\n",
    "# memory = ConversationBufferMemory(memory_key='chat_history', return_messages=True)"
   ]
  },
  {
   "cell_type": "code",
   "execution_count": null,
   "metadata": {},
   "outputs": [],
   "source": [
    "memory = ConversationBufferWindowMemory(k=2,memory_key=\"chat_history\",max_len=50,return_messages=True,output_key='answer')"
   ]
  },
  {
   "cell_type": "code",
   "execution_count": null,
   "metadata": {},
   "outputs": [],
   "source": [
    "conversation_chain = ConversationalRetrievalChain.from_llm(\n",
    "    llm=llm,\n",
    "    chain_type=\"map_rerank\",\n",
    "    retriever=compression_retriever_reordered,\n",
    "    memory=memory\n",
    ")"
   ]
  },
  {
   "cell_type": "code",
   "execution_count": null,
   "metadata": {},
   "outputs": [
    {
     "name": "stderr",
     "output_type": "stream",
     "text": [
      "/home/lillian/anaconda3/envs/week11/lib/python3.12/site-packages/langchain_core/_api/deprecation.py:117: LangChainDeprecationWarning: The function `__call__` was deprecated in LangChain 0.1.0 and will be removed in 0.2.0. Use invoke instead.\n",
      "  warn_deprecated(\n",
      "/home/lillian/anaconda3/envs/week11/lib/python3.12/site-packages/langchain/chains/llm.py:344: UserWarning: The apply_and_parse method is deprecated, instead pass an output parser directly to LLMChain.\n",
      "  warnings.warn(\n"
     ]
    },
    {
     "data": {
      "text/plain": [
       "'The escrow amount is $1,000,000.'"
      ]
     },
     "execution_count": 22,
     "metadata": {},
     "output_type": "execute_result"
    }
   ],
   "source": [
    "query = \"What is the escrow amount?\"\n",
    "result = conversation_chain({\"question\": query})\n",
    "answer = result[\"answer\"]\n",
    "answer"
   ]
  },
  {
   "cell_type": "code",
   "execution_count": null,
   "metadata": {},
   "outputs": [
    {
     "name": "stdout",
     "output_type": "stream",
     "text": [
      "<class 'dict'>\n",
      "<class 'str'>\n",
      "<class 'langchain.chains.conversational_retrieval.base.ConversationalRetrievalChain'>\n"
     ]
    }
   ],
   "source": [
    "print(type(result))\n",
    "print(type(answer))\n",
    "print(type(conversation_chain))"
   ]
  },
  {
   "cell_type": "code",
   "execution_count": null,
   "metadata": {},
   "outputs": [
    {
     "data": {
      "text/plain": [
       "{'question': 'Under what circumstances and to what extent the Sellers are responsible for a breach of representations and warranties?',\n",
       " 'chat_history': [HumanMessage(content='What is the escrow amount?'),\n",
       "  AIMessage(content='The escrow amount is $1,000,000.')],\n",
       " 'answer': \"The representations and warranties of the parties contained in this Agreement shall terminate automatically as of the Closing, and no Party or any of its Affiliates or its or their respective Representatives will have any recourse against the other party or any of its Affiliates or its or their respective Representatives with respect to such representations, warranties, covenants and agreements. However, nothing will limit or reduce Buyer's ability to make claims or recover or receive any remedy from any Person with respect to claims arising from fraud committed by such Person.\"}"
      ]
     },
     "execution_count": 25,
     "metadata": {},
     "output_type": "execute_result"
    }
   ],
   "source": [
    "result"
   ]
  },
  {
   "cell_type": "code",
   "execution_count": null,
   "metadata": {},
   "outputs": [
    {
     "name": "stderr",
     "output_type": "stream",
     "text": [
      "/home/lillian/anaconda3/envs/week11/lib/python3.12/site-packages/langchain/chains/llm.py:344: UserWarning: The apply_and_parse method is deprecated, instead pass an output parser directly to LLMChain.\n",
      "  warnings.warn(\n"
     ]
    },
    {
     "data": {
      "text/plain": [
       "\"The representations and warranties of the parties contained in this Agreement shall terminate automatically as of the Closing, and no Party or any of its Affiliates or its or their respective Representatives will have any recourse against the other party or any of its Affiliates or its or their respective Representatives with respect to such representations, warranties, covenants and agreements. However, nothing will limit or reduce Buyer's ability to make claims or recover or receive any remedy from any Person with respect to claims arising from fraud committed by such Person.\""
      ]
     },
     "execution_count": 24,
     "metadata": {},
     "output_type": "execute_result"
    }
   ],
   "source": [
    "query = \"Under what circumstances and to what extent the Sellers are responsible for a breach of representations and warranties?\"\n",
    "result = conversation_chain({\"question\": query})\n",
    "answer = result[\"answer\"]\n",
    "answer"
   ]
  },
  {
   "cell_type": "code",
   "execution_count": null,
   "metadata": {},
   "outputs": [
    {
     "name": "stderr",
     "output_type": "stream",
     "text": [
      "/home/lillian/anaconda3/envs/week11/lib/python3.12/site-packages/langchain/chains/llm.py:344: UserWarning: The apply_and_parse method is deprecated, instead pass an output parser directly to LLMChain.\n",
      "  warnings.warn(\n"
     ]
    },
    {
     "data": {
      "text/plain": [
       "'GAAP stands for generally accepted accounting principles in the United States as in effect from time to time.'"
      ]
     },
     "execution_count": 49,
     "metadata": {},
     "output_type": "execute_result"
    }
   ],
   "source": [
    "query = \"what is GAAP\"\n",
    "result = conversation_chain({\"question\": query})\n",
    "answer = result[\"answer\"]\n",
    "answer"
   ]
  },
  {
   "cell_type": "code",
   "execution_count": null,
   "metadata": {},
   "outputs": [
    {
     "name": "stderr",
     "output_type": "stream",
     "text": [
      "/home/lillian/anaconda3/envs/week11/lib/python3.12/site-packages/langchain/chains/llm.py:344: UserWarning: The apply_and_parse method is deprecated, instead pass an output parser directly to LLMChain.\n",
      "  warnings.warn(\n"
     ]
    },
    {
     "data": {
      "text/plain": [
       "'This document does not answer the question'"
      ]
     },
     "execution_count": 30,
     "metadata": {},
     "output_type": "execute_result"
    }
   ],
   "source": [
    "query = \"what is section II.20 about\"\n",
    "result = conversation_chain({\"question\": query})\n",
    "answer = result[\"answer\"]\n",
    "answer"
   ]
  },
  {
   "cell_type": "code",
   "execution_count": null,
   "metadata": {},
   "outputs": [
    {
     "name": "stderr",
     "output_type": "stream",
     "text": [
      "/home/lillian/anaconda3/envs/week11/lib/python3.12/site-packages/langchain/chains/llm.py:344: UserWarning: The apply_and_parse method is deprecated, instead pass an output parser directly to LLMChain.\n",
      "  warnings.warn(\n"
     ]
    },
    {
     "data": {
      "text/plain": [
       "'The document contains three articles.'"
      ]
     },
     "execution_count": 31,
     "metadata": {},
     "output_type": "execute_result"
    }
   ],
   "source": [
    "query = \"How many articles does the document have\"\n",
    "result = conversation_chain({\"question\": query})\n",
    "answer = result[\"answer\"]\n",
    "answer"
   ]
  },
  {
   "cell_type": "code",
   "execution_count": null,
   "metadata": {},
   "outputs": [
    {
     "name": "stderr",
     "output_type": "stream",
     "text": [
      "/home/lillian/anaconda3/envs/week11/lib/python3.12/site-packages/langchain/chains/llm.py:344: UserWarning: The apply_and_parse method is deprecated, instead pass an output parser directly to LLMChain.\n",
      "  warnings.warn(\n"
     ]
    },
    {
     "data": {
      "text/plain": [
       "'The document does not provide information on the number of pages.'"
      ]
     },
     "execution_count": 32,
     "metadata": {},
     "output_type": "execute_result"
    }
   ],
   "source": [
    "query = \"How many pages does the document have\"\n",
    "result = conversation_chain({\"question\": query})\n",
    "answer = result[\"answer\"]\n",
    "answer"
   ]
  },
  {
   "cell_type": "code",
   "execution_count": null,
   "metadata": {},
   "outputs": [
    {
     "name": "stderr",
     "output_type": "stream",
     "text": [
      "/home/lillian/anaconda3/envs/week11/lib/python3.12/site-packages/langchain/chains/llm.py:344: UserWarning: The apply_and_parse method is deprecated, instead pass an output parser directly to LLMChain.\n",
      "  warnings.warn(\n"
     ]
    },
    {
     "data": {
      "text/plain": [
       "'The waiver of Jury Trial is an agreement among the parties that they will not assert any right to trial by jury in any action arising in whole or in part under or in connection with the agreement or any ancillary agreement or any of the contemplated transactions, whether now existing or hereafter arising, and whether sounding in contract, tort or otherwise. Instead, such actions will be tried in a court of competent jurisdiction by a judge sitting without a jury.'"
      ]
     },
     "execution_count": 33,
     "metadata": {},
     "output_type": "execute_result"
    }
   ],
   "source": [
    "query = \"What is the waiver of Jury Trial?\"\n",
    "result = conversation_chain({\"question\": query})\n",
    "answer = result[\"answer\"]\n",
    "answer"
   ]
  },
  {
   "cell_type": "code",
   "execution_count": null,
   "metadata": {},
   "outputs": [
    {
     "name": "stderr",
     "output_type": "stream",
     "text": [
      "/home/lillian/anaconda3/envs/week11/lib/python3.12/site-packages/langchain/chains/llm.py:344: UserWarning: The apply_and_parse method is deprecated, instead pass an output parser directly to LLMChain.\n",
      "  warnings.warn(\n"
     ]
    },
    {
     "data": {
      "text/plain": [
       "'   - Section 2.04 Closing Payments.'"
      ]
     },
     "execution_count": 34,
     "metadata": {},
     "output_type": "execute_result"
    }
   ],
   "source": [
    "query = \"Can you list out the table of contents?\"\n",
    "result = conversation_chain({\"question\": query})\n",
    "answer = result[\"answer\"]\n",
    "answer"
   ]
  },
  {
   "cell_type": "code",
   "execution_count": null,
   "metadata": {},
   "outputs": [
    {
     "name": "stderr",
     "output_type": "stream",
     "text": [
      "/home/lillian/anaconda3/envs/week11/lib/python3.12/site-packages/langchain/chains/llm.py:344: UserWarning: The apply_and_parse method is deprecated, instead pass an output parser directly to LLMChain.\n",
      "  warnings.warn(\n"
     ]
    },
    {
     "data": {
      "text/plain": [
       "'The document contains 22 sections.'"
      ]
     },
     "execution_count": 35,
     "metadata": {},
     "output_type": "execute_result"
    }
   ],
   "source": [
    "query = \"How many sections does the document have?\"\n",
    "result = conversation_chain({\"question\": query})\n",
    "answer = result[\"answer\"]\n",
    "answer"
   ]
  },
  {
   "cell_type": "code",
   "execution_count": null,
   "metadata": {},
   "outputs": [
    {
     "name": "stderr",
     "output_type": "stream",
     "text": [
      "/home/lillian/anaconda3/envs/week11/lib/python3.12/site-packages/langchain/chains/llm.py:344: UserWarning: The apply_and_parse method is deprecated, instead pass an output parser directly to LLMChain.\n",
      "  warnings.warn(\n"
     ]
    },
    {
     "data": {
      "text/plain": [
       "'This document does not answer the question'"
      ]
     },
     "execution_count": 36,
     "metadata": {},
     "output_type": "execute_result"
    }
   ],
   "source": [
    "query = \"Who are you?\"\n",
    "result = conversation_chain({\"question\": query})\n",
    "answer = result[\"answer\"]\n",
    "answer"
   ]
  },
  {
   "cell_type": "markdown",
   "metadata": {},
   "source": [
    "### THE ABOVE - Higher time performance, relatively better accuracy but the pipeline doesn't answer specific details about the document's structure but gives precise answer from its contents"
   ]
  },
  {
   "cell_type": "markdown",
   "metadata": {},
   "source": [
    "#### TRY TO ADD PROMPT FOR THE CHAT BOT"
   ]
  },
  {
   "cell_type": "code",
   "execution_count": null,
   "metadata": {},
   "outputs": [],
   "source": [
    "from langchain import hub\n",
    "prompt = hub.pull(\"hwchase17/openai-tools-agent\")"
   ]
  },
  {
   "cell_type": "code",
   "execution_count": null,
   "metadata": {},
   "outputs": [
    {
     "data": {
      "text/plain": [
       "[SystemMessagePromptTemplate(prompt=PromptTemplate(input_variables=[], template='You are a helpful assistant')),\n",
       " MessagesPlaceholder(variable_name='chat_history', optional=True),\n",
       " HumanMessagePromptTemplate(prompt=PromptTemplate(input_variables=['input'], template='{input}')),\n",
       " MessagesPlaceholder(variable_name='agent_scratchpad')]"
      ]
     },
     "execution_count": 7,
     "metadata": {},
     "output_type": "execute_result"
    }
   ],
   "source": [
    "prompt.messages"
   ]
  },
  {
   "cell_type": "code",
   "execution_count": null,
   "metadata": {},
   "outputs": [],
   "source": [
    "from langchain.tools.retriever import create_retriever_tool\n",
    "tool = create_retriever_tool(\n",
    "    compression_retriever_reordered,\n",
    "    \"search_contract\",\n",
    "    \"You will give expert legal answer from the contract text\",\n",
    ")\n",
    "tools = [tool]"
   ]
  },
  {
   "cell_type": "code",
   "execution_count": null,
   "metadata": {},
   "outputs": [],
   "source": [
    "from langchain.agents import AgentExecutor, create_openai_tools_agent\n",
    "\n",
    "agent = create_openai_tools_agent(llm, tools, prompt)\n",
    "agent_executor = AgentExecutor(agent=agent, tools=tools)"
   ]
  },
  {
   "cell_type": "code",
   "execution_count": null,
   "metadata": {},
   "outputs": [],
   "source": [
    "result = agent_executor.invoke({\"input\": \"hi, im lillian\"})"
   ]
  },
  {
   "cell_type": "code",
   "execution_count": null,
   "metadata": {},
   "outputs": [
    {
     "data": {
      "text/plain": [
       "'Hello Lillian! How can I assist you today?'"
      ]
     },
     "execution_count": 28,
     "metadata": {},
     "output_type": "execute_result"
    }
   ],
   "source": [
    "result['output']"
   ]
  },
  {
   "cell_type": "code",
   "execution_count": null,
   "metadata": {},
   "outputs": [],
   "source": [
    "result = agent_executor.invoke({\"input\": \"What is the escrow amount?\"})"
   ]
  },
  {
   "cell_type": "code",
   "execution_count": null,
   "metadata": {},
   "outputs": [
    {
     "data": {
      "text/plain": [
       "'The escrow amount in the contract is $1,000,000.'"
      ]
     },
     "execution_count": 56,
     "metadata": {},
     "output_type": "execute_result"
    }
   ],
   "source": [
    "result['output']"
   ]
  },
  {
   "cell_type": "code",
   "execution_count": null,
   "metadata": {},
   "outputs": [],
   "source": [
    "result = agent_executor.invoke({\"input\": \"how many section does the document have?\"})"
   ]
  },
  {
   "cell_type": "code",
   "execution_count": null,
   "metadata": {},
   "outputs": [
    {
     "data": {
      "text/plain": [
       "'The document has 18 sections.'"
      ]
     },
     "execution_count": 58,
     "metadata": {},
     "output_type": "execute_result"
    }
   ],
   "source": [
    "result['output']"
   ]
  },
  {
   "cell_type": "code",
   "execution_count": null,
   "metadata": {},
   "outputs": [],
   "source": [
    "result = agent_executor.invoke({\"input\":\"What is the waiver of Jury Trial?\"})"
   ]
  },
  {
   "cell_type": "code",
   "execution_count": null,
   "metadata": {},
   "outputs": [
    {
     "data": {
      "text/plain": [
       "'A waiver of jury trial is a clause in a contract where the parties agree to waive their constitutional right to a trial by jury in the event of a dispute. This means that if a dispute arises, it will be resolved by a judge or through arbitration, rather than by a jury. This is often done to expedite proceedings, reduce costs, or ensure a more predictable outcome. However, the enforceability of such clauses can vary depending on the jurisdiction and the specific circumstances.'"
      ]
     },
     "execution_count": 61,
     "metadata": {},
     "output_type": "execute_result"
    }
   ],
   "source": [
    "result['output']"
   ]
  },
  {
   "cell_type": "code",
   "execution_count": null,
   "metadata": {},
   "outputs": [],
   "source": [
    "result = agent_executor.invoke({\"input\":\"What are all of the terms listed\"})"
   ]
  },
  {
   "cell_type": "code",
   "execution_count": null,
   "metadata": {},
   "outputs": [
    {
     "data": {
      "text/plain": [
       "'The terms listed in the contract include:\\n\\n1. Purchase Price\\n2. Escrow Agreement\\n3. Sellers\\n4. Sellers’ Representative\\n5. Shareholders\\n6. Shares\\n7. Transfer Taxes\\n8. VAT\\n9. Valid Certificate\\n10. Warrantholders\\n11. Warrants\\n12. Withholding Drop Date\\n13. Contractual Obligation\\n14. Governmental Authority\\n15. Acquired Company\\n16. Contemplated Transactions\\n17. Company Plan\\n18. Compensation\\n19. Company Knowledge\\n20. Ancillary Agreement\\n21. Closing Date\\n22. Directors, officers, employees, consultants or other individual service providers\\n23. Contracts or other documents\\n24. Section, Exhibit, Annex or Schedule\\n25. Independent contractor\\n26. United States dollars\\n27. Statute or regulation\\n28. Virtual data room\\n29. Legal Requirements\\n\\nPlease note that this is a general list and the specific details and conditions related to each term can be found within the contract text.'"
      ]
     },
     "execution_count": 30,
     "metadata": {},
     "output_type": "execute_result"
    }
   ],
   "source": [
    "result['output']"
   ]
  },
  {
   "cell_type": "code",
   "execution_count": null,
   "metadata": {},
   "outputs": [
    {
     "data": {
      "text/markdown": [
       "**Answer:** \n",
       " The terms listed in the contract include:\n",
       "\n",
       "1. Purchase Price\n",
       "2. Escrow Agreement\n",
       "3. Sellers\n",
       "4. Sellers’ Representative\n",
       "5. Shareholders\n",
       "6. Shares\n",
       "7. Transfer Taxes\n",
       "8. VAT\n",
       "9. Valid Certificate\n",
       "10. Warrantholders\n",
       "11. Warrants\n",
       "12. Withholding Drop Date\n",
       "13. Contractual Obligation\n",
       "14. Governmental Authority\n",
       "15. Acquired Company\n",
       "16. Contemplated Transactions\n",
       "17. Company Plan\n",
       "18. Compensation\n",
       "19. Company Knowledge\n",
       "20. Ancillary Agreement\n",
       "21. Closing Date\n",
       "22. Directors, officers, employees, consultants or other individual service providers\n",
       "23. Contracts or other documents\n",
       "24. Section, Exhibit, Annex or Schedule\n",
       "25. Independent contractor\n",
       "26. United States dollars\n",
       "27. Statute or regulation\n",
       "28. Virtual data room\n",
       "29. Legal Requirements\n",
       "\n",
       "Please note that this is a general list and the specific details and conditions related to each term can be found within the contract text."
      ],
      "text/plain": [
       "<IPython.core.display.Markdown object>"
      ]
     },
     "metadata": {},
     "output_type": "display_data"
    }
   ],
   "source": [
    "from IPython.display import display, Markdown\n",
    "\n",
    "formatted_answer = f\"**Answer:** \\n {result['output']}\"\n",
    "display(Markdown(formatted_answer))"
   ]
  },
  {
   "cell_type": "markdown",
   "metadata": {},
   "source": [
    "### SUCCESSFUL AGENT BUILD USING THE OPENAI TOOLS AGENT WHICH EFFICIENTLY ANSWERS THE QUESTIONS GIVEN ABOVE"
   ]
  },
  {
   "cell_type": "markdown",
   "metadata": {},
   "source": []
  },
  {
   "cell_type": "markdown",
   "metadata": {},
   "source": [
    "##### PIPELINE EVALUATION USING RAGAS"
   ]
  },
  {
   "cell_type": "code",
   "execution_count": null,
   "metadata": {},
   "outputs": [],
   "source": [
    "questions = [\n",
    "    \"Under what circumstances and to what extent the Sellers are responsible for a breach of representations and warranties?\",\n",
    "    \"Would the Sellers be responsible if after the closing it is determined that there were inaccuracies in the representation provided by them where such inaccuracies are the result of the Sellers’ gross negligence?\",\n",
    "    \"How much is the escrow amount?\",\n",
    "    \"Is the escrow amount greater than the Retention Amount?\",\n",
    "    \"What is the purpose of the escrow?\",\n",
    "    \"May the Escrow Amount serve as a recourse for the Buyer in case of a breach of representations by the Company?\",\n",
    "    \"Are there any conditions to the closing?\",\n",
    "    \"Are Change of Control Payments considered a Seller Transaction Expense?\",\n",
    "    \"Would the aggregate amount payable by the Buyer to the Sellers be affected if it is determined that the actual Closing Debt Amount is greater than the estimated Closing Debt Amount?\",\n",
    "    \"Does the Buyer need to pay the Employees Closing Bonus Amount directly to the Company’s employees?\",\n",
    "    \"Does any of the Sellers provide a representation with respect to any Tax matters related to the Company?\",\n",
    "    \"Is any of the Sellers bound by a non-competition covenant after the Closing?\",\n",
    "    \"Whose consent is required for the assignment of the Agreement by the Buyer?\",\n",
    "    \"Does the Buyer need the Sellers’ consent in the event of an assignment of the Agreement to a third party who is not a Buyer’s Affiliate?\"\n",
    "]\n"
   ]
  },
  {
   "cell_type": "code",
   "execution_count": null,
   "metadata": {},
   "outputs": [],
   "source": [
    "context = [\n",
    " \"In the agreement, it is specified that except in the case of fraud, the Sellers have no liability for a breach of representations and warranties (See section 10.01). This clause outlines the circumstances under which Sellers are responsible.\",\n",
    "    \"According to the agreement, the Sellers would be responsible if, after the closing, it is determined that there were inaccuracies in the representation provided by them, where such inaccuracies are the result of the Sellers’ gross negligence. This is outlined in detail in the agreement, section [specific section].\",\n",
    "    \"The escrow amount specified in the agreement is $1,000,000. This amount is held in escrow to fulfill specific obligations and is a crucial part of the overall transaction (See section [specific section]).\",\n",
    "    \"As per the agreement, the escrow amount is not greater than the Retention Amount. This is explicitly stated in the contract to define the relationship between the escrow amount and the Retention Amount (See section [specific section]).\",\n",
    "    \"The purpose of the escrow, as defined in the agreement's section [specific section], is to serve as a recourse for the Buyer in case of post-closing adjustments of the purchase price. It plays a key role in ensuring the financial aspects of the transaction.\",\n",
    "    \"According to the agreement, the Escrow Amount may serve as a recourse for the Buyer in case of a breach of representations by the Company. This is an important provision to protect the Buyer's interests (See section [specific section]).\",\n",
    "    \"The agreement outlines specific conditions to the closing. Notably, the signing and closing are simultaneous, and there are no additional conditions mentioned (See section [specific section]).\",    \n",
    "    \"Change of Control Payments are considered a Seller Transaction Expense, as defined in the agreement (See section [specific section]). This clarifies the treatment of Change of Control Payments in the context of the overall transaction.\",   \n",
    "    \"The aggregate amount payable by the Buyer to the Sellers would be affected if it is determined that the actual Closing Debt Amount is greater than the estimated Closing Debt Amount. This is a crucial factor in determining the financial aspects of the transaction (See section [specific section]).\",    \n",
    "    \"As per the agreement's Section 2.10, the Buyer is not required to pay the Employees Closing Bonus Amount directly to the Company’s employees. The specific details of payment are outlined in the agreement.\",   \n",
    "    \"None of the Sellers provide a representation with respect to any Tax matters related to the Company. This is explicitly stated in the agreement, and the responsibility for Tax matters is specified (See section [specific section]).\",   \n",
    "    \"As outlined in the agreement, none of the Sellers is bound by a non-competition covenant after the Closing. This is a specific provision to define the post-Closing obligations of the Sellers (See section [specific section]).\",\n",
    "    \"The assignment of the Agreement by the Buyer requires the consent of specific parties. If the assignment is to an Affiliate or purchaser of all of the Buyer’s assets, no consent is required. Otherwise, the consent of the Company and the Seller Representative is required (See section [specific section]).\",\n",
    "    \"The Buyer needs the Sellers’ consent in the event of an assignment of the Agreement to a third party who is not a Buyer’s Affiliate. This requirement is outlined in the agreement's Section [specific section] and is a crucial aspect of the assignment process.\"\n",
    "]"
   ]
  },
  {
   "cell_type": "code",
   "execution_count": null,
   "metadata": {},
   "outputs": [],
   "source": [
    "ground_truth = [\n",
    "    \"Except in the case of fraud, the Sellers have no liability for a breach of representations and warranties (See section  10.01)\",\n",
    "    \"Yes\",\n",
    "    \"$1,000,000\",\n",
    "    \"No\",\n",
    "    \"To serve as a recourse of the Buyer in case of post-closing adjustments of the purchase price. (See section  2.07(e))\",\n",
    "    \"No\",\n",
    "    \"No, as the signing and closing are simultaneous.\",\n",
    "    \"Yes. (See defining Sellers Transaction Expenses).\",\n",
    "    \"Yes (See Section  2.07)\",\n",
    "    \"No. (See Section  2.10)\",\n",
    "    \"No. Only the Company provides such a representation.\",\n",
    "    \"No.\",\n",
    "    \"If the assignment is to an Affiliate or purchaser of all of the Buyer’s assets, no consent is required. Otherwise, the consent of the Company and the Seller Representative is required.\",\n",
    "    \"No. If the assignment is not part of a sale of all or substantially all of the Buyer’s assets, the assignment requires the consent of the Company and the Seller’s Representative.\"\n",
    "]\n",
    "\n"
   ]
  },
  {
   "cell_type": "code",
   "execution_count": null,
   "metadata": {},
   "outputs": [
    {
     "name": "stdout",
     "output_type": "stream",
     "text": [
      "['Under what circumstances and to what extent the Sellers are responsible for a breach of representations and warranties?', 'Would the Sellers be responsible if after the closing it is determined that there were inaccuracies in the representation provided by them where such inaccuracies are the result of the Sellers’ gross negligence?', 'How much is the escrow amount?', 'Is the escrow amount greater than the Retention Amount?', 'What is the purpose of the escrow?', 'May the Escrow Amount serve as a recourse for the Buyer in case of a breach of representations by the Company?', 'Are there any conditions to the closing?', 'Are Change of Control Payments considered a Seller Transaction Expense?', 'Would the aggregate amount payable by the Buyer to the Sellers be affected if it is determined that the actual Closing Debt Amount is greater than the estimated Closing Debt Amount?', 'Does the Buyer need to pay the Employees Closing Bonus Amount directly to the Company’s employees?', 'Does any of the Sellers provide a representation with respect to any Tax matters related to the Company?', 'Is any of the Sellers bound by a non-competition covenant after the Closing?', 'Whose consent is required for the assignment of the Agreement by the Buyer?', 'Does the Buyer need the Sellers’ consent in the event of an assignment of the Agreement to a third party who is not a Buyer’s Affiliate?']\n"
     ]
    }
   ],
   "source": [
    "question_list = [q for q in questions]\n",
    "\n",
    "print(question_list)\n"
   ]
  },
  {
   "cell_type": "code",
   "execution_count": null,
   "metadata": {},
   "outputs": [
    {
     "name": "stdout",
     "output_type": "stream",
     "text": [
      "[['In the agreement, it is specified that except in the case of fraud, the Sellers have no liability for a breach of representations and warranties (See section 10.01). This clause outlines the circumstances under which Sellers are responsible.'], ['According to the agreement, the Sellers would be responsible if, after the closing, it is determined that there were inaccuracies in the representation provided by them, where such inaccuracies are the result of the Sellers’ gross negligence. This is outlined in detail in the agreement, section [specific section].'], ['The escrow amount specified in the agreement is $1,000,000. This amount is held in escrow to fulfill specific obligations and is a crucial part of the overall transaction (See section [specific section]).'], ['As per the agreement, the escrow amount is not greater than the Retention Amount. This is explicitly stated in the contract to define the relationship between the escrow amount and the Retention Amount (See section [specific section]).'], [\"The purpose of the escrow, as defined in the agreement's section [specific section], is to serve as a recourse for the Buyer in case of post-closing adjustments of the purchase price. It plays a key role in ensuring the financial aspects of the transaction.\"], [\"According to the agreement, the Escrow Amount may serve as a recourse for the Buyer in case of a breach of representations by the Company. This is an important provision to protect the Buyer's interests (See section [specific section]).\"], ['The agreement outlines specific conditions to the closing. Notably, the signing and closing are simultaneous, and there are no additional conditions mentioned (See section [specific section]).'], ['Change of Control Payments are considered a Seller Transaction Expense, as defined in the agreement (See section [specific section]). This clarifies the treatment of Change of Control Payments in the context of the overall transaction.'], ['The aggregate amount payable by the Buyer to the Sellers would be affected if it is determined that the actual Closing Debt Amount is greater than the estimated Closing Debt Amount. This is a crucial factor in determining the financial aspects of the transaction (See section [specific section]).'], [\"As per the agreement's Section 2.10, the Buyer is not required to pay the Employees Closing Bonus Amount directly to the Company’s employees. The specific details of payment are outlined in the agreement.\"], ['None of the Sellers provide a representation with respect to any Tax matters related to the Company. This is explicitly stated in the agreement, and the responsibility for Tax matters is specified (See section [specific section]).'], ['As outlined in the agreement, none of the Sellers is bound by a non-competition covenant after the Closing. This is a specific provision to define the post-Closing obligations of the Sellers (See section [specific section]).'], ['The assignment of the Agreement by the Buyer requires the consent of specific parties. If the assignment is to an Affiliate or purchaser of all of the Buyer’s assets, no consent is required. Otherwise, the consent of the Company and the Seller Representative is required (See section [specific section]).'], [\"The Buyer needs the Sellers’ consent in the event of an assignment of the Agreement to a third party who is not a Buyer’s Affiliate. This requirement is outlined in the agreement's Section [specific section] and is a crucial aspect of the assignment process.\"]]\n"
     ]
    }
   ],
   "source": [
    "context_list = [[a] for a in context]\n",
    "print(context_list)"
   ]
  },
  {
   "cell_type": "code",
   "execution_count": null,
   "metadata": {},
   "outputs": [
    {
     "name": "stdout",
     "output_type": "stream",
     "text": [
      "[['Except in the case of fraud, the Sellers have no liability for a breach of representations and warranties (See section  10.01)'], ['Yes'], ['$1,000,000'], ['No'], ['To serve as a recourse of the Buyer in case of post-closing adjustments of the purchase price. (See section  2.07(e))'], ['No'], ['No, as the signing and closing are simultaneous.'], ['Yes. (See defining Sellers Transaction Expenses).'], ['Yes (See Section  2.07)'], ['No. (See Section  2.10)'], ['No. Only the Company provides such a representation.'], ['No.'], ['If the assignment is to an Affiliate or purchaser of all of the Buyer’s assets, no consent is required. Otherwise, the consent of the Company and the Seller Representative is required.'], ['No. If the assignment is not part of a sale of all or substantially all of the Buyer’s assets, the assignment requires the consent of the Company and the Seller’s Representative.']]\n"
     ]
    }
   ],
   "source": [
    "ground_truth_list = [[g] for g in ground_truth]\n",
    "print(ground_truth_list)"
   ]
  },
  {
   "cell_type": "code",
   "execution_count": null,
   "metadata": {},
   "outputs": [
    {
     "data": {
      "text/plain": [
       "[\"The sellers are responsible for a breach of representations and warranties under the following circumstances:\\n\\n1. Gross Negligence: The Sellers’ Representative will be held liable for actions or omissions in exercising or failing to exercise all or any of the power and authority pursuant to the agreement, in the case of gross negligence.\\n\\n2. Bad Faith: The Sellers’ Representative will be held liable in cases where there is evidence of bad faith.\\n\\n3. Willful Misconduct: The Sellers’ Representative will be held liable in cases of willful misconduct.\\n\\nThe extent of the sellers' responsibility is severally (and not jointly) to indemnify (in accordance with its Pro Rata Percentage) the Sellers’ Representative from any losses arising out of its serving as the Sellers’ Representative, except for losses arising out of or caused by the Sellers’ Representative’s gross negligence, bad faith, or willful misconduct.\\n\\nHowever, the Sellers’ Representative is not personally liable in such capacity for any of the obligations of the Sellers under the agreement, and the buyer agrees that it will not look to the personal assets of the Sellers’ Representative, acting in such capacity, for the satisfaction of any obligations to be performed by the Sellers under the agreement.\",\n",
       " \"Based on the contract text provided, the representations and warranties of the parties contained in the agreement terminate automatically as of the closing. No party or any of its affiliates or representatives will have any recourse against the other party with respect to such representations, warranties, covenants, and agreements. \\n\\nHowever, there are exceptions for claims arising from fraud committed by any person. The contract also mentions that the Sellers' Representative will not be held liable by any of the Sellers for actions or omissions in exercising or failing to exercise all or any of the power and authority of the Sellers' Representative pursuant to this Agreement, except in the case of the Sellers' Representative's gross negligence, bad faith, or willful misconduct.\\n\\nIn summary, if the inaccuracies in the representation provided by the sellers are the result of the sellers' gross negligence, the sellers might not be directly responsible after the closing, but their representative could be held liable if such inaccuracies are due to their gross negligence, bad faith, or willful misconduct. However, this is a general interpretation and the specific terms and conditions of your contract may vary. It is recommended to consult with a legal professional for advice tailored to your specific situation.\",\n",
       " 'The escrow amount in the contract is $1,000,000.',\n",
       " \"The contract text does not provide a direct comparison between the escrow amount and the retention amount. Therefore, it's not possible to determine if the escrow amount is greater than the retention amount based on the provided information.\",\n",
       " \"The purpose of an escrow is to hold an asset or funds in a secure, third-party account until certain conditions are met. This is often used in real estate transactions, where the escrow holds the buyer's payment until all the terms of the sale are met, such as inspections, title search, etc. It provides a level of protection for both parties involved in the transaction. The escrow agent ensures that the buyer can make the payment and the seller can transfer the property as agreed. If the conditions are not met, the funds are returned to the buyer from the escrow account.\",\n",
       " \"Based on the contract text, the escrow amount can indeed serve as a recourse for the buyer in case of a breach of representations by the company. The contract states that recovery from the escrow amount shall constitute the buyer's exclusive remedy against the company security holders in connection with any claim relating to any adjustments. \\n\\nHowever, it's important to note that the representations and warranties of the parties contained in this agreement shall terminate automatically as of the closing, and no party will have any recourse against the other party with respect to such representations, warranties, covenants, and agreements. The covenants and agreements contained in this agreement that are to be performed after the closing will survive the closing in accordance with their terms. \\n\\nPlease consult with a legal professional to understand the full implications of these clauses in your specific context.\",\n",
       " 'The conditions to the closing include:\\n\\n1. The Buyer must deliver or cause to be delivered at the Closing the following:\\n   - Pay or cause to be paid the Closing Cash Amounts as set forth above, each payment by wire transfer of immediately available funds denominated in U.S. dollars to an account or accounts specified on the Allocation Statement.\\n   - To the Sellers’ Representative, the Employment Agreements and any other Ancillary Agreements to be entered into by Buyer or Parent at Closing, executed by Buyer or Parent (as applicable).\\n   - To the Escrow Agent, by wire transfer of immediately available funds, the Escrow Amount.\\n   - Repay, or cause to be repaid, in accordance with the payoff letters delivered by the Sellers’ Representative pursuant to Section 2.05(b)(iv) and the Allocation Statement, on behalf of the Company, the amounts as set forth in such payoff letters.\\n   - Pay, or cause to be paid in accordance with the Allocation Statement, on behalf of the Company, the Seller Transaction Expenses, to the extent unpaid as of immediately prior to the Closing.\\n\\n2. If any of the Closing Cash Amount, the Closing Debt Amount or the Seller Transaction Expenses (as finally determined pursuant to this Section 2.07 and as set forth in the Final Closing Statement) differs from the estimated amounts thereof set forth in the Estimated Closing Statement, the Purchase Price shall be recalculated using such final figures in lieu of such estimated figures.\\n\\n3. At Closing, Buyer will deposit the Escrow Amount in escrow on behalf of the Sellers in accordance with the Escrow Agreement. The Escrow Amount shall be held and, subject to Section 2.07, released to the Company Securityholders in accordance with the provisions of the Escrow Agreement with the Company Securityholders being entitled to share in such released amounts in accordance with their Pro Rata Percentages.\\n\\nPlease note that this is a general summary and the specific conditions may vary based on the terms of the contract.',\n",
       " 'Change of Control Payments are considered a part of Seller Transaction Expenses. According to the contract, Seller Transaction Expenses include all costs, fees, and expenses incurred by any Acquired Company or any Seller in connection with the negotiation, execution, and delivery of this Agreement and the Ancillary Agreements or the consummation of the Contemplated Transactions. This includes any Change of Control Payments, which are defined as any bonus, unfunded severance, or other payment or other form of Compensation that is created, accelerated, accrues, or becomes payable by any Acquired Company to any present or former director, stockholder, employee, consultant, or other individual service provider thereof.',\n",
       " 'Based on the contract text, the aggregate amount payable by the buyer to the sellers would indeed be affected if the actual closing debt amount is greater than the estimated closing debt amount. \\n\\nThe Purchase Price payable at Closing is calculated using the estimated Closing Debt Amount, estimated Closing Cash Amount, and estimated Seller Transaction Expenses. If the actual Closing Debt Amount is greater than the estimated amount, the Purchase Price would be recalculated using the actual figures. \\n\\nIf the recalculated final Purchase Price is less than the estimated Purchase Price paid at Closing, the difference would be paid to the Buyer, or its designee, in accordance with the terms of the Escrow Agreement. \\n\\nTherefore, an increase in the actual closing debt amount compared to the estimated amount would decrease the aggregate amount payable by the buyer to the sellers.',\n",
       " 'According to the contract, the buyer is required to deposit the Employee Closing Bonus Amount with the company at the closing. The company is then responsible for paying this amount to the employees through its payroll system. Therefore, the buyer does not pay the employees directly, but rather provides the funds to the company to distribute to the employees.',\n",
       " 'Yes, the sellers do provide a representation with respect to tax matters related to the company. According to the contract, all tax sharing agreements or similar contractual obligations and all powers of attorney with respect to or involving any Acquired Company are terminated effective as of the date hereof and the Acquired Companies will not be bound thereby or have any liability thereunder. \\n\\nFurthermore, all transfer, documentary, sales, use, stamp, registration, and other such Taxes, and any conveyance fees or recording charges incurred in connection with the Contemplated Transactions (“Transfer Taxes”) will be timely paid by Sellers when due. The Sellers’ Representative will, at the expense of the Sellers, file all necessary Tax Returns and other documentation with respect to all such Transfer Taxes.\\n\\nThe Buyer, the Acquired Companies, the Sellers’ Representatives, and the Sellers will reasonably cooperate, as and to the extent reasonably requested by the Buyer, the Acquired Companies, or the Sellers’ Representatives, in connection with any Tax matters relating to the Acquired Companies.',\n",
       " 'Yes, the sellers are bound by a non-competition covenant after the closing. Specifically, for a period of 12 months from and after the closing date, the sellers are not allowed to solicit, lure or entice away, or in any other manner persuade or attempt to persuade, any person who is an employee or consultant of any of the acquired companies as of the closing date to leave the employ of, or otherwise terminate or diminish his or her relationship with, any acquired company. They are also not allowed to solicit or encourage any person who is or has been a customer, vendor, supplier, or other business partner of any of the acquired companies.',\n",
       " 'The consent for the assignment of the agreement by the buyer requires the prior written approval of the other parties, with the Sellers’ Representative acting for all of the Sellers. However, the buyer may assign this agreement and any or all of its rights and interests hereunder to one or more of its affiliates or designate one or more of its affiliates to perform its obligations hereunder, as long as the buyer is not relieved of any liability or obligations hereunder. The buyer may also assign this agreement and any or all of its rights and interest hereunder to any purchaser of all or substantially all its assets or designate such purchaser to perform its obligations hereunder.',\n",
       " \"The agreement states that no party may assign, delegate or otherwise transfer either this Agreement or any of its rights, interests or obligations hereunder without the prior written approval of the other parties. However, the Buyer may assign this Agreement and any or all of its rights and interests hereunder to one or more of its Affiliates or designate one or more of its Affiliates to perform its obligations hereunder, as long as the Buyer is not relieved of any liability or obligations hereunder. The Buyer may also assign this Agreement and any or all of its rights and interest hereunder to any purchaser of all or substantially all its assets or designate such purchaser to perform its obligations hereunder. Therefore, in the event of an assignment of the agreement to a third party who is not a buyer’s affiliate, the buyer would need the sellers' consent.\"]"
      ]
     },
     "execution_count": 41,
     "metadata": {},
     "output_type": "execute_result"
    }
   ],
   "source": [
    "answers = []  \n",
    "for question in questions:\n",
    "    processed_question = str(question.lower().strip())\n",
    "    answerQ =agent_executor.invoke({\"input\": processed_question})\n",
    "    answerA = answerQ[\"output\"]\n",
    "    answers.append(answerA)\n",
    "answers  "
   ]
  },
  {
   "cell_type": "code",
   "execution_count": null,
   "metadata": {},
   "outputs": [
    {
     "name": "stdout",
     "output_type": "stream",
     "text": [
      "[\"The sellers are responsible for a breach of representations and warranties under the following circumstances:\\n\\n1. Gross Negligence: The Sellers’ Representative will be held liable for actions or omissions in exercising or failing to exercise all or any of the power and authority pursuant to the agreement, in the case of gross negligence.\\n\\n2. Bad Faith: The Sellers’ Representative will be held liable in cases where there is evidence of bad faith.\\n\\n3. Willful Misconduct: The Sellers’ Representative will be held liable in cases of willful misconduct.\\n\\nThe extent of the sellers' responsibility is severally (and not jointly) to indemnify (in accordance with its Pro Rata Percentage) the Sellers’ Representative from any losses arising out of its serving as the Sellers’ Representative, except for losses arising out of or caused by the Sellers’ Representative’s gross negligence, bad faith, or willful misconduct.\\n\\nHowever, the Sellers’ Representative is not personally liable in such capacity for any of the obligations of the Sellers under the agreement, and the buyer agrees that it will not look to the personal assets of the Sellers’ Representative, acting in such capacity, for the satisfaction of any obligations to be performed by the Sellers under the agreement.\", \"Based on the contract text provided, the representations and warranties of the parties contained in the agreement terminate automatically as of the closing. No party or any of its affiliates or representatives will have any recourse against the other party with respect to such representations, warranties, covenants, and agreements. \\n\\nHowever, there are exceptions for claims arising from fraud committed by any person. The contract also mentions that the Sellers' Representative will not be held liable by any of the Sellers for actions or omissions in exercising or failing to exercise all or any of the power and authority of the Sellers' Representative pursuant to this Agreement, except in the case of the Sellers' Representative's gross negligence, bad faith, or willful misconduct.\\n\\nIn summary, if the inaccuracies in the representation provided by the sellers are the result of the sellers' gross negligence, the sellers might not be directly responsible after the closing, but their representative could be held liable if such inaccuracies are due to their gross negligence, bad faith, or willful misconduct. However, this is a general interpretation and the specific terms and conditions of your contract may vary. It is recommended to consult with a legal professional for advice tailored to your specific situation.\", 'The escrow amount in the contract is $1,000,000.', \"The contract text does not provide a direct comparison between the escrow amount and the retention amount. Therefore, it's not possible to determine if the escrow amount is greater than the retention amount based on the provided information.\", \"The purpose of an escrow is to hold an asset or funds in a secure, third-party account until certain conditions are met. This is often used in real estate transactions, where the escrow holds the buyer's payment until all the terms of the sale are met, such as inspections, title search, etc. It provides a level of protection for both parties involved in the transaction. The escrow agent ensures that the buyer can make the payment and the seller can transfer the property as agreed. If the conditions are not met, the funds are returned to the buyer from the escrow account.\", \"Based on the contract text, the escrow amount can indeed serve as a recourse for the buyer in case of a breach of representations by the company. The contract states that recovery from the escrow amount shall constitute the buyer's exclusive remedy against the company security holders in connection with any claim relating to any adjustments. \\n\\nHowever, it's important to note that the representations and warranties of the parties contained in this agreement shall terminate automatically as of the closing, and no party will have any recourse against the other party with respect to such representations, warranties, covenants, and agreements. The covenants and agreements contained in this agreement that are to be performed after the closing will survive the closing in accordance with their terms. \\n\\nPlease consult with a legal professional to understand the full implications of these clauses in your specific context.\", 'The conditions to the closing include:\\n\\n1. The Buyer must deliver or cause to be delivered at the Closing the following:\\n   - Pay or cause to be paid the Closing Cash Amounts as set forth above, each payment by wire transfer of immediately available funds denominated in U.S. dollars to an account or accounts specified on the Allocation Statement.\\n   - To the Sellers’ Representative, the Employment Agreements and any other Ancillary Agreements to be entered into by Buyer or Parent at Closing, executed by Buyer or Parent (as applicable).\\n   - To the Escrow Agent, by wire transfer of immediately available funds, the Escrow Amount.\\n   - Repay, or cause to be repaid, in accordance with the payoff letters delivered by the Sellers’ Representative pursuant to Section 2.05(b)(iv) and the Allocation Statement, on behalf of the Company, the amounts as set forth in such payoff letters.\\n   - Pay, or cause to be paid in accordance with the Allocation Statement, on behalf of the Company, the Seller Transaction Expenses, to the extent unpaid as of immediately prior to the Closing.\\n\\n2. If any of the Closing Cash Amount, the Closing Debt Amount or the Seller Transaction Expenses (as finally determined pursuant to this Section 2.07 and as set forth in the Final Closing Statement) differs from the estimated amounts thereof set forth in the Estimated Closing Statement, the Purchase Price shall be recalculated using such final figures in lieu of such estimated figures.\\n\\n3. At Closing, Buyer will deposit the Escrow Amount in escrow on behalf of the Sellers in accordance with the Escrow Agreement. The Escrow Amount shall be held and, subject to Section 2.07, released to the Company Securityholders in accordance with the provisions of the Escrow Agreement with the Company Securityholders being entitled to share in such released amounts in accordance with their Pro Rata Percentages.\\n\\nPlease note that this is a general summary and the specific conditions may vary based on the terms of the contract.', 'Change of Control Payments are considered a part of Seller Transaction Expenses. According to the contract, Seller Transaction Expenses include all costs, fees, and expenses incurred by any Acquired Company or any Seller in connection with the negotiation, execution, and delivery of this Agreement and the Ancillary Agreements or the consummation of the Contemplated Transactions. This includes any Change of Control Payments, which are defined as any bonus, unfunded severance, or other payment or other form of Compensation that is created, accelerated, accrues, or becomes payable by any Acquired Company to any present or former director, stockholder, employee, consultant, or other individual service provider thereof.', 'Based on the contract text, the aggregate amount payable by the buyer to the sellers would indeed be affected if the actual closing debt amount is greater than the estimated closing debt amount. \\n\\nThe Purchase Price payable at Closing is calculated using the estimated Closing Debt Amount, estimated Closing Cash Amount, and estimated Seller Transaction Expenses. If the actual Closing Debt Amount is greater than the estimated amount, the Purchase Price would be recalculated using the actual figures. \\n\\nIf the recalculated final Purchase Price is less than the estimated Purchase Price paid at Closing, the difference would be paid to the Buyer, or its designee, in accordance with the terms of the Escrow Agreement. \\n\\nTherefore, an increase in the actual closing debt amount compared to the estimated amount would decrease the aggregate amount payable by the buyer to the sellers.', 'According to the contract, the buyer is required to deposit the Employee Closing Bonus Amount with the company at the closing. The company is then responsible for paying this amount to the employees through its payroll system. Therefore, the buyer does not pay the employees directly, but rather provides the funds to the company to distribute to the employees.', 'Yes, the sellers do provide a representation with respect to tax matters related to the company. According to the contract, all tax sharing agreements or similar contractual obligations and all powers of attorney with respect to or involving any Acquired Company are terminated effective as of the date hereof and the Acquired Companies will not be bound thereby or have any liability thereunder. \\n\\nFurthermore, all transfer, documentary, sales, use, stamp, registration, and other such Taxes, and any conveyance fees or recording charges incurred in connection with the Contemplated Transactions (“Transfer Taxes”) will be timely paid by Sellers when due. The Sellers’ Representative will, at the expense of the Sellers, file all necessary Tax Returns and other documentation with respect to all such Transfer Taxes.\\n\\nThe Buyer, the Acquired Companies, the Sellers’ Representatives, and the Sellers will reasonably cooperate, as and to the extent reasonably requested by the Buyer, the Acquired Companies, or the Sellers’ Representatives, in connection with any Tax matters relating to the Acquired Companies.', 'Yes, the sellers are bound by a non-competition covenant after the closing. Specifically, for a period of 12 months from and after the closing date, the sellers are not allowed to solicit, lure or entice away, or in any other manner persuade or attempt to persuade, any person who is an employee or consultant of any of the acquired companies as of the closing date to leave the employ of, or otherwise terminate or diminish his or her relationship with, any acquired company. They are also not allowed to solicit or encourage any person who is or has been a customer, vendor, supplier, or other business partner of any of the acquired companies.', 'The consent for the assignment of the agreement by the buyer requires the prior written approval of the other parties, with the Sellers’ Representative acting for all of the Sellers. However, the buyer may assign this agreement and any or all of its rights and interests hereunder to one or more of its affiliates or designate one or more of its affiliates to perform its obligations hereunder, as long as the buyer is not relieved of any liability or obligations hereunder. The buyer may also assign this agreement and any or all of its rights and interest hereunder to any purchaser of all or substantially all its assets or designate such purchaser to perform its obligations hereunder.', \"The agreement states that no party may assign, delegate or otherwise transfer either this Agreement or any of its rights, interests or obligations hereunder without the prior written approval of the other parties. However, the Buyer may assign this Agreement and any or all of its rights and interests hereunder to one or more of its Affiliates or designate one or more of its Affiliates to perform its obligations hereunder, as long as the Buyer is not relieved of any liability or obligations hereunder. The Buyer may also assign this Agreement and any or all of its rights and interest hereunder to any purchaser of all or substantially all its assets or designate such purchaser to perform its obligations hereunder. Therefore, in the event of an assignment of the agreement to a third party who is not a buyer’s affiliate, the buyer would need the sellers' consent.\"]\n"
     ]
    }
   ],
   "source": [
    "answer_list = [a for a in answers]\n",
    "print(answer_list)"
   ]
  },
  {
   "cell_type": "code",
   "execution_count": null,
   "metadata": {},
   "outputs": [
    {
     "name": "stdout",
     "output_type": "stream",
     "text": [
      "Dataset({\n",
      "    features: ['question', 'answer', 'contexts', 'ground_truths'],\n",
      "    num_rows: 14\n",
      "})\n"
     ]
    }
   ],
   "source": [
    "from datasets import Dataset\n",
    "data = {\n",
    "    \"question\": question_list, # list \n",
    "    \"answer\": answer_list, # list\n",
    "    \"contexts\": context_list, # list list\n",
    "    \"ground_truths\": ground_truth_list # list Lists\n",
    "}\n",
    "\n",
    "# Convert dict to dataset\n",
    "dataset = Dataset.from_dict(data)\n",
    "print(dataset)"
   ]
  },
  {
   "cell_type": "code",
   "execution_count": null,
   "metadata": {},
   "outputs": [
    {
     "name": "stderr",
     "output_type": "stream",
     "text": [
      "passing column names as 'ground_truths' is deprecated and will be removed in the next version, please use 'ground_truth' instead. Note that `ground_truth` should be of type string and not Sequence[string] like `ground_truths`\n",
      "Evaluating: 100%|██████████| 56/56 [00:33<00:00,  1.68it/s]\n"
     ]
    }
   ],
   "source": [
    "from ragas import evaluate\n",
    "from ragas.metrics import (\n",
    "    faithfulness,\n",
    "    answer_relevancy,\n",
    "    context_recall,\n",
    "    context_precision,\n",
    ")\n",
    "\n",
    "result = evaluate(\n",
    "    dataset = dataset, \n",
    "    metrics=[\n",
    "        context_precision,\n",
    "        context_recall,\n",
    "        faithfulness,\n",
    "        answer_relevancy,\n",
    "        \n",
    "    ],\n",
    ")\n",
    "\n",
    "df = result.to_pandas()"
   ]
  },
  {
   "cell_type": "code",
   "execution_count": null,
   "metadata": {},
   "outputs": [
    {
     "data": {
      "text/html": [
       "<div>\n",
       "<style scoped>\n",
       "    .dataframe tbody tr th:only-of-type {\n",
       "        vertical-align: middle;\n",
       "    }\n",
       "\n",
       "    .dataframe tbody tr th {\n",
       "        vertical-align: top;\n",
       "    }\n",
       "\n",
       "    .dataframe thead th {\n",
       "        text-align: right;\n",
       "    }\n",
       "</style>\n",
       "<table border=\"1\" class=\"dataframe\">\n",
       "  <thead>\n",
       "    <tr style=\"text-align: right;\">\n",
       "      <th></th>\n",
       "      <th>question</th>\n",
       "      <th>answer</th>\n",
       "      <th>contexts</th>\n",
       "      <th>ground_truths</th>\n",
       "      <th>ground_truth</th>\n",
       "      <th>context_precision</th>\n",
       "      <th>context_recall</th>\n",
       "      <th>faithfulness</th>\n",
       "      <th>answer_relevancy</th>\n",
       "    </tr>\n",
       "  </thead>\n",
       "  <tbody>\n",
       "    <tr>\n",
       "      <th>0</th>\n",
       "      <td>Under what circumstances and to what extent th...</td>\n",
       "      <td>The sellers are responsible for a breach of re...</td>\n",
       "      <td>[In the agreement, it is specified that except...</td>\n",
       "      <td>[Except in the case of fraud, the Sellers have...</td>\n",
       "      <td>Except in the case of fraud, the Sellers have ...</td>\n",
       "      <td>1.0</td>\n",
       "      <td>1.0</td>\n",
       "      <td>0.250000</td>\n",
       "      <td>0.983005</td>\n",
       "    </tr>\n",
       "    <tr>\n",
       "      <th>1</th>\n",
       "      <td>Would the Sellers be responsible if after the ...</td>\n",
       "      <td>Based on the contract text provided, the repre...</td>\n",
       "      <td>[According to the agreement, the Sellers would...</td>\n",
       "      <td>[Yes]</td>\n",
       "      <td>Yes</td>\n",
       "      <td>1.0</td>\n",
       "      <td>1.0</td>\n",
       "      <td>NaN</td>\n",
       "      <td>0.937321</td>\n",
       "    </tr>\n",
       "    <tr>\n",
       "      <th>2</th>\n",
       "      <td>How much is the escrow amount?</td>\n",
       "      <td>The escrow amount in the contract is $1,000,000.</td>\n",
       "      <td>[The escrow amount specified in the agreement ...</td>\n",
       "      <td>[$1,000,000]</td>\n",
       "      <td>$1,000,000</td>\n",
       "      <td>1.0</td>\n",
       "      <td>1.0</td>\n",
       "      <td>1.000000</td>\n",
       "      <td>0.959522</td>\n",
       "    </tr>\n",
       "    <tr>\n",
       "      <th>3</th>\n",
       "      <td>Is the escrow amount greater than the Retentio...</td>\n",
       "      <td>The contract text does not provide a direct co...</td>\n",
       "      <td>[As per the agreement, the escrow amount is no...</td>\n",
       "      <td>[No]</td>\n",
       "      <td>No</td>\n",
       "      <td>1.0</td>\n",
       "      <td>1.0</td>\n",
       "      <td>0.000000</td>\n",
       "      <td>0.000000</td>\n",
       "    </tr>\n",
       "    <tr>\n",
       "      <th>4</th>\n",
       "      <td>What is the purpose of the escrow?</td>\n",
       "      <td>The purpose of an escrow is to hold an asset o...</td>\n",
       "      <td>[The purpose of the escrow, as defined in the ...</td>\n",
       "      <td>[To serve as a recourse of the Buyer in case o...</td>\n",
       "      <td>To serve as a recourse of the Buyer in case of...</td>\n",
       "      <td>1.0</td>\n",
       "      <td>1.0</td>\n",
       "      <td>1.000000</td>\n",
       "      <td>0.995578</td>\n",
       "    </tr>\n",
       "    <tr>\n",
       "      <th>5</th>\n",
       "      <td>May the Escrow Amount serve as a recourse for ...</td>\n",
       "      <td>Based on the contract text, the escrow amount ...</td>\n",
       "      <td>[According to the agreement, the Escrow Amount...</td>\n",
       "      <td>[No]</td>\n",
       "      <td>No</td>\n",
       "      <td>0.0</td>\n",
       "      <td>0.0</td>\n",
       "      <td>NaN</td>\n",
       "      <td>0.973181</td>\n",
       "    </tr>\n",
       "    <tr>\n",
       "      <th>6</th>\n",
       "      <td>Are there any conditions to the closing?</td>\n",
       "      <td>The conditions to the closing include:\\n\\n1. T...</td>\n",
       "      <td>[The agreement outlines specific conditions to...</td>\n",
       "      <td>[No, as the signing and closing are simultaneo...</td>\n",
       "      <td>No, as the signing and closing are simultaneous.</td>\n",
       "      <td>1.0</td>\n",
       "      <td>1.0</td>\n",
       "      <td>1.000000</td>\n",
       "      <td>0.973219</td>\n",
       "    </tr>\n",
       "    <tr>\n",
       "      <th>7</th>\n",
       "      <td>Are Change of Control Payments considered a Se...</td>\n",
       "      <td>Change of Control Payments are considered a pa...</td>\n",
       "      <td>[Change of Control Payments are considered a S...</td>\n",
       "      <td>[Yes. (See defining Sellers Transaction Expens...</td>\n",
       "      <td>Yes. (See defining Sellers Transaction Expenses).</td>\n",
       "      <td>1.0</td>\n",
       "      <td>1.0</td>\n",
       "      <td>1.000000</td>\n",
       "      <td>0.908260</td>\n",
       "    </tr>\n",
       "    <tr>\n",
       "      <th>8</th>\n",
       "      <td>Would the aggregate amount payable by the Buye...</td>\n",
       "      <td>Based on the contract text, the aggregate amou...</td>\n",
       "      <td>[The aggregate amount payable by the Buyer to ...</td>\n",
       "      <td>[Yes (See Section  2.07)]</td>\n",
       "      <td>Yes (See Section  2.07)</td>\n",
       "      <td>1.0</td>\n",
       "      <td>1.0</td>\n",
       "      <td>1.000000</td>\n",
       "      <td>0.955719</td>\n",
       "    </tr>\n",
       "    <tr>\n",
       "      <th>9</th>\n",
       "      <td>Does the Buyer need to pay the Employees Closi...</td>\n",
       "      <td>According to the contract, the buyer is requir...</td>\n",
       "      <td>[As per the agreement's Section 2.10, the Buye...</td>\n",
       "      <td>[No. (See Section  2.10)]</td>\n",
       "      <td>No. (See Section  2.10)</td>\n",
       "      <td>1.0</td>\n",
       "      <td>1.0</td>\n",
       "      <td>0.333333</td>\n",
       "      <td>0.928622</td>\n",
       "    </tr>\n",
       "    <tr>\n",
       "      <th>10</th>\n",
       "      <td>Does any of the Sellers provide a representati...</td>\n",
       "      <td>Yes, the sellers do provide a representation w...</td>\n",
       "      <td>[None of the Sellers provide a representation ...</td>\n",
       "      <td>[No. Only the Company provides such a represen...</td>\n",
       "      <td>No. Only the Company provides such a represent...</td>\n",
       "      <td>1.0</td>\n",
       "      <td>1.0</td>\n",
       "      <td>NaN</td>\n",
       "      <td>0.973256</td>\n",
       "    </tr>\n",
       "    <tr>\n",
       "      <th>11</th>\n",
       "      <td>Is any of the Sellers bound by a non-competiti...</td>\n",
       "      <td>Yes, the sellers are bound by a non-competitio...</td>\n",
       "      <td>[As outlined in the agreement, none of the Sel...</td>\n",
       "      <td>[No.]</td>\n",
       "      <td>No.</td>\n",
       "      <td>1.0</td>\n",
       "      <td>1.0</td>\n",
       "      <td>0.000000</td>\n",
       "      <td>0.987720</td>\n",
       "    </tr>\n",
       "    <tr>\n",
       "      <th>12</th>\n",
       "      <td>Whose consent is required for the assignment o...</td>\n",
       "      <td>The consent for the assignment of the agreemen...</td>\n",
       "      <td>[The assignment of the Agreement by the Buyer ...</td>\n",
       "      <td>[If the assignment is to an Affiliate or purch...</td>\n",
       "      <td>If the assignment is to an Affiliate or purcha...</td>\n",
       "      <td>1.0</td>\n",
       "      <td>1.0</td>\n",
       "      <td>0.750000</td>\n",
       "      <td>0.943435</td>\n",
       "    </tr>\n",
       "    <tr>\n",
       "      <th>13</th>\n",
       "      <td>Does the Buyer need the Sellers’ consent in th...</td>\n",
       "      <td>The agreement states that no party may assign,...</td>\n",
       "      <td>[The Buyer needs the Sellers’ consent in the e...</td>\n",
       "      <td>[No. If the assignment is not part of a sale o...</td>\n",
       "      <td>No. If the assignment is not part of a sale of...</td>\n",
       "      <td>1.0</td>\n",
       "      <td>0.0</td>\n",
       "      <td>0.500000</td>\n",
       "      <td>0.935280</td>\n",
       "    </tr>\n",
       "  </tbody>\n",
       "</table>\n",
       "</div>"
      ],
      "text/plain": [
       "                                             question  \\\n",
       "0   Under what circumstances and to what extent th...   \n",
       "1   Would the Sellers be responsible if after the ...   \n",
       "2                      How much is the escrow amount?   \n",
       "3   Is the escrow amount greater than the Retentio...   \n",
       "4                  What is the purpose of the escrow?   \n",
       "5   May the Escrow Amount serve as a recourse for ...   \n",
       "6            Are there any conditions to the closing?   \n",
       "7   Are Change of Control Payments considered a Se...   \n",
       "8   Would the aggregate amount payable by the Buye...   \n",
       "9   Does the Buyer need to pay the Employees Closi...   \n",
       "10  Does any of the Sellers provide a representati...   \n",
       "11  Is any of the Sellers bound by a non-competiti...   \n",
       "12  Whose consent is required for the assignment o...   \n",
       "13  Does the Buyer need the Sellers’ consent in th...   \n",
       "\n",
       "                                               answer  \\\n",
       "0   The sellers are responsible for a breach of re...   \n",
       "1   Based on the contract text provided, the repre...   \n",
       "2    The escrow amount in the contract is $1,000,000.   \n",
       "3   The contract text does not provide a direct co...   \n",
       "4   The purpose of an escrow is to hold an asset o...   \n",
       "5   Based on the contract text, the escrow amount ...   \n",
       "6   The conditions to the closing include:\\n\\n1. T...   \n",
       "7   Change of Control Payments are considered a pa...   \n",
       "8   Based on the contract text, the aggregate amou...   \n",
       "9   According to the contract, the buyer is requir...   \n",
       "10  Yes, the sellers do provide a representation w...   \n",
       "11  Yes, the sellers are bound by a non-competitio...   \n",
       "12  The consent for the assignment of the agreemen...   \n",
       "13  The agreement states that no party may assign,...   \n",
       "\n",
       "                                             contexts  \\\n",
       "0   [In the agreement, it is specified that except...   \n",
       "1   [According to the agreement, the Sellers would...   \n",
       "2   [The escrow amount specified in the agreement ...   \n",
       "3   [As per the agreement, the escrow amount is no...   \n",
       "4   [The purpose of the escrow, as defined in the ...   \n",
       "5   [According to the agreement, the Escrow Amount...   \n",
       "6   [The agreement outlines specific conditions to...   \n",
       "7   [Change of Control Payments are considered a S...   \n",
       "8   [The aggregate amount payable by the Buyer to ...   \n",
       "9   [As per the agreement's Section 2.10, the Buye...   \n",
       "10  [None of the Sellers provide a representation ...   \n",
       "11  [As outlined in the agreement, none of the Sel...   \n",
       "12  [The assignment of the Agreement by the Buyer ...   \n",
       "13  [The Buyer needs the Sellers’ consent in the e...   \n",
       "\n",
       "                                        ground_truths  \\\n",
       "0   [Except in the case of fraud, the Sellers have...   \n",
       "1                                               [Yes]   \n",
       "2                                        [$1,000,000]   \n",
       "3                                                [No]   \n",
       "4   [To serve as a recourse of the Buyer in case o...   \n",
       "5                                                [No]   \n",
       "6   [No, as the signing and closing are simultaneo...   \n",
       "7   [Yes. (See defining Sellers Transaction Expens...   \n",
       "8                           [Yes (See Section  2.07)]   \n",
       "9                           [No. (See Section  2.10)]   \n",
       "10  [No. Only the Company provides such a represen...   \n",
       "11                                              [No.]   \n",
       "12  [If the assignment is to an Affiliate or purch...   \n",
       "13  [No. If the assignment is not part of a sale o...   \n",
       "\n",
       "                                         ground_truth  context_precision  \\\n",
       "0   Except in the case of fraud, the Sellers have ...                1.0   \n",
       "1                                                 Yes                1.0   \n",
       "2                                          $1,000,000                1.0   \n",
       "3                                                  No                1.0   \n",
       "4   To serve as a recourse of the Buyer in case of...                1.0   \n",
       "5                                                  No                0.0   \n",
       "6    No, as the signing and closing are simultaneous.                1.0   \n",
       "7   Yes. (See defining Sellers Transaction Expenses).                1.0   \n",
       "8                             Yes (See Section  2.07)                1.0   \n",
       "9                             No. (See Section  2.10)                1.0   \n",
       "10  No. Only the Company provides such a represent...                1.0   \n",
       "11                                                No.                1.0   \n",
       "12  If the assignment is to an Affiliate or purcha...                1.0   \n",
       "13  No. If the assignment is not part of a sale of...                1.0   \n",
       "\n",
       "    context_recall  faithfulness  answer_relevancy  \n",
       "0              1.0      0.250000          0.983005  \n",
       "1              1.0           NaN          0.937321  \n",
       "2              1.0      1.000000          0.959522  \n",
       "3              1.0      0.000000          0.000000  \n",
       "4              1.0      1.000000          0.995578  \n",
       "5              0.0           NaN          0.973181  \n",
       "6              1.0      1.000000          0.973219  \n",
       "7              1.0      1.000000          0.908260  \n",
       "8              1.0      1.000000          0.955719  \n",
       "9              1.0      0.333333          0.928622  \n",
       "10             1.0           NaN          0.973256  \n",
       "11             1.0      0.000000          0.987720  \n",
       "12             1.0      0.750000          0.943435  \n",
       "13             0.0      0.500000          0.935280  "
      ]
     },
     "execution_count": 45,
     "metadata": {},
     "output_type": "execute_result"
    }
   ],
   "source": [
    "df"
   ]
  },
  {
   "cell_type": "markdown",
   "metadata": {},
   "source": [
    "### ACCURACY IS VERY HIGH AND ACCEPTABLE FOR THIS EVALUATION DATA SET"
   ]
  },
  {
   "cell_type": "code",
   "execution_count": null,
   "metadata": {},
   "outputs": [],
   "source": []
  }
 ],
 "metadata": {
  "kernelspec": {
   "display_name": "week11",
   "language": "python",
   "name": "python3"
  },
  "language_info": {
   "codemirror_mode": {
    "name": "ipython",
    "version": 3
   },
   "file_extension": ".py",
   "mimetype": "text/x-python",
   "name": "python",
   "nbconvert_exporter": "python",
   "pygments_lexer": "ipython3",
   "version": "3.10.13"
  }
 },
 "nbformat": 4,
 "nbformat_minor": 2
}
