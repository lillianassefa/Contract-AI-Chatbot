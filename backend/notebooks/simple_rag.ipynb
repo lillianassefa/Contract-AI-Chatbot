{
 "cells": [
  {
   "cell_type": "code",
   "execution_count": 1,
   "metadata": {},
   "outputs": [],
   "source": [
    "import os\n",
    "from dotenv import load_dotenv\n",
    "\n",
    "load_dotenv()\n",
    "\n",
    "api_key = os.environ[\"OPENAI_API_KEY\"] "
   ]
  },
  {
   "cell_type": "code",
   "execution_count": 2,
   "metadata": {},
   "outputs": [],
   "source": [
    "from langchain.chains import RetrievalQA\n",
    "from langchain.chat_models import ChatOpenAI\n",
    "from langchain.document_loaders import TextLoader\n",
    "from langchain.vectorstores import DocArrayInMemorySearch\n",
    "from IPython.display import display, Markdown\n",
    "from langchain.text_splitter import CharacterTextSplitter\n",
    "from langchain.embeddings import OpenAIEmbeddings, HuggingFaceInstructEmbeddings\n",
    "from langchain.vectorstores import FAISS\n",
    "from langchain.memory import ConversationBufferMemory\n",
    "from langchain.chains import ConversationalRetrievalChain\n",
    "from langchain.indexes import VectorstoreIndexCreator\n",
    "from langchain_experimental.agents.agent_toolkits.csv.base import create_csv_agent\n",
    "from langchain.agents.agent_types import AgentType\n",
    "from langchain.memory import ConversationBufferMemory\n",
    "import tiktoken\n"
   ]
  },
  {
   "cell_type": "code",
   "execution_count": 3,
   "metadata": {},
   "outputs": [],
   "source": [
    "from langchain.text_splitter import CharacterTextSplitter"
   ]
  },
  {
   "cell_type": "code",
   "execution_count": 4,
   "metadata": {},
   "outputs": [],
   "source": [
    "txt_file_path = \"/home/lillian/Documents/TenAcademy/week11/Contract-AI-Chatbot/backend/data/contract.txt\""
   ]
  },
  {
   "cell_type": "code",
   "execution_count": 5,
   "metadata": {},
   "outputs": [],
   "source": [
    "loader = TextLoader(file_path= txt_file_path, encoding=\"utf-8\")\n",
    "data = loader.load()"
   ]
  },
  {
   "cell_type": "code",
   "execution_count": 6,
   "metadata": {},
   "outputs": [],
   "source": [
    "text_splitter = CharacterTextSplitter(chunk_size=5100, chunk_overlap=200)\n",
    "data = text_splitter.split_documents(data)"
   ]
  },
  {
   "cell_type": "code",
   "execution_count": 7,
   "metadata": {},
   "outputs": [
    {
     "name": "stderr",
     "output_type": "stream",
     "text": [
      "/home/lillian/.local/lib/python3.10/site-packages/langchain_core/_api/deprecation.py:117: LangChainDeprecationWarning: The class `langchain_community.embeddings.openai.OpenAIEmbeddings` was deprecated in langchain-community 0.1.0 and will be removed in 0.2.0. An updated version of the class exists in the langchain-openai package and should be used instead. To use it run `pip install -U langchain-openai` and import as `from langchain_openai import OpenAIEmbeddings`.\n",
      "  warn_deprecated(\n"
     ]
    }
   ],
   "source": [
    "embeddings = OpenAIEmbeddings()"
   ]
  },
  {
   "cell_type": "code",
   "execution_count": 8,
   "metadata": {},
   "outputs": [],
   "source": [
    "vectorstore = FAISS.from_documents(data, embedding=embeddings)"
   ]
  },
  {
   "cell_type": "code",
   "execution_count": 9,
   "metadata": {},
   "outputs": [
    {
     "name": "stderr",
     "output_type": "stream",
     "text": [
      "/home/lillian/.local/lib/python3.10/site-packages/langchain_core/_api/deprecation.py:117: LangChainDeprecationWarning: The class `langchain_community.chat_models.openai.ChatOpenAI` was deprecated in langchain-community 0.0.10 and will be removed in 0.2.0. An updated version of the class exists in the langchain-openai package and should be used instead. To use it run `pip install -U langchain-openai` and import as `from langchain_openai import ChatOpenAI`.\n",
      "  warn_deprecated(\n"
     ]
    }
   ],
   "source": [
    "llm = ChatOpenAI(temperature=0.7, model_name=\"gpt-4\",max_tokens=500)"
   ]
  },
  {
   "cell_type": "code",
   "execution_count": 10,
   "metadata": {},
   "outputs": [],
   "source": [
    "memory = ConversationBufferMemory(memory_key='chat_history', return_messages=True)"
   ]
  },
  {
   "cell_type": "code",
   "execution_count": 11,
   "metadata": {},
   "outputs": [],
   "source": [
    "conversation_chain = ConversationalRetrievalChain.from_llm(\n",
    "    llm=llm,\n",
    "    chain_type=\"stuff\",\n",
    "    retriever=vectorstore.as_retriever(),\n",
    "    memory=memory\n",
    ")"
   ]
  },
  {
   "cell_type": "code",
   "execution_count": 12,
   "metadata": {},
   "outputs": [
    {
     "name": "stderr",
     "output_type": "stream",
     "text": [
      "/home/lillian/.local/lib/python3.10/site-packages/langchain_core/_api/deprecation.py:117: LangChainDeprecationWarning: The function `__call__` was deprecated in LangChain 0.1.0 and will be removed in 0.2.0. Use invoke instead.\n",
      "  warn_deprecated(\n"
     ]
    },
    {
     "data": {
      "text/plain": [
       "'The data provided is about various legal and financial terms and conditions related to business agreements. It includes definitions for terms like \"Pro Rata Percentage\", \"R&W Insurance Policy\", \"Retention Amount\", and \"Intellectual Property\". Some parts also discuss laws and regulations related to data privacy and protection, handling of personal information, and obligations related to open source software. There are also explanations about tax regulations and obligations under the Income Tax Ordinance.'"
      ]
     },
     "execution_count": 12,
     "metadata": {},
     "output_type": "execute_result"
    }
   ],
   "source": [
    "query = \"What is the data about?\"\n",
    "result = conversation_chain({\"question\": query})\n",
    "answer = result[\"answer\"]\n",
    "answer"
   ]
  },
  {
   "cell_type": "code",
   "execution_count": 14,
   "metadata": {},
   "outputs": [
    {
     "data": {
      "text/markdown": [
       "**Answer:** \n",
       " The data provided is about various legal and financial terms and conditions related to business agreements. It includes definitions for terms like \"Pro Rata Percentage\", \"R&W Insurance Policy\", \"Retention Amount\", and \"Intellectual Property\". Some parts also discuss laws and regulations related to data privacy and protection, handling of personal information, and obligations related to open source software. There are also explanations about tax regulations and obligations under the Income Tax Ordinance."
      ],
      "text/plain": [
       "<IPython.core.display.Markdown object>"
      ]
     },
     "metadata": {},
     "output_type": "display_data"
    }
   ],
   "source": [
    "from IPython.display import display, Markdown\n",
    "\n",
    "formatted_answer = f\"**Answer:** \\n {answer}\"\n",
    "display(Markdown(formatted_answer))"
   ]
  },
  {
   "cell_type": "code",
   "execution_count": 16,
   "metadata": {},
   "outputs": [
    {
     "name": "stdout",
     "output_type": "stream",
     "text": [
      "Collecting unstructured\n",
      "  Downloading unstructured-0.12.4-py3-none-any.whl.metadata (26 kB)\n",
      "Collecting chardet (from unstructured)\n",
      "  Downloading chardet-5.2.0-py3-none-any.whl.metadata (3.4 kB)\n",
      "Collecting filetype (from unstructured)\n",
      "  Downloading filetype-1.2.0-py2.py3-none-any.whl.metadata (6.5 kB)\n",
      "Collecting python-magic (from unstructured)\n",
      "  Downloading python_magic-0.4.27-py2.py3-none-any.whl.metadata (5.8 kB)\n",
      "Requirement already satisfied: lxml in /home/lillian/anaconda3/envs/week1110/lib/python3.10/site-packages (from unstructured) (5.1.0)\n",
      "Collecting nltk (from unstructured)\n",
      "  Using cached nltk-3.8.1-py3-none-any.whl.metadata (2.8 kB)\n",
      "Collecting tabulate (from unstructured)\n",
      "  Downloading tabulate-0.9.0-py3-none-any.whl.metadata (34 kB)\n",
      "Requirement already satisfied: requests in /home/lillian/.local/lib/python3.10/site-packages (from unstructured) (2.31.0)\n",
      "Requirement already satisfied: beautifulsoup4 in /home/lillian/.local/lib/python3.10/site-packages (from unstructured) (4.12.2)\n",
      "Collecting emoji (from unstructured)\n",
      "  Downloading emoji-2.10.1-py2.py3-none-any.whl.metadata (5.3 kB)\n",
      "Requirement already satisfied: dataclasses-json in /home/lillian/.local/lib/python3.10/site-packages (from unstructured) (0.5.14)\n",
      "Collecting python-iso639 (from unstructured)\n",
      "  Downloading python_iso639-2024.2.7-py3-none-any.whl.metadata (13 kB)\n",
      "Collecting langdetect (from unstructured)\n",
      "  Downloading langdetect-1.0.9.tar.gz (981 kB)\n",
      "\u001b[2K     \u001b[90m━━━━━━━━━━━━━━━━━━━━━━━━━━━━━━━━━━━━━━━\u001b[0m \u001b[32m981.5/981.5 kB\u001b[0m \u001b[31m3.1 MB/s\u001b[0m eta \u001b[36m0:00:00\u001b[0ma \u001b[36m0:00:01\u001b[0m\n",
      "\u001b[?25h  Preparing metadata (setup.py) ... \u001b[?25ldone\n",
      "\u001b[?25hRequirement already satisfied: numpy in /home/lillian/.local/lib/python3.10/site-packages (from unstructured) (1.26.3)\n",
      "Collecting rapidfuzz (from unstructured)\n",
      "  Using cached rapidfuzz-3.6.1-cp310-cp310-manylinux_2_17_x86_64.manylinux2014_x86_64.whl.metadata (11 kB)\n",
      "Collecting backoff (from unstructured)\n",
      "  Using cached backoff-2.2.1-py3-none-any.whl.metadata (14 kB)\n",
      "Requirement already satisfied: typing-extensions in /home/lillian/anaconda3/envs/week1110/lib/python3.10/site-packages (from unstructured) (4.9.0)\n",
      "Collecting unstructured-client>=0.15.1 (from unstructured)\n",
      "  Downloading unstructured_client-0.18.0-py3-none-any.whl.metadata (4.9 kB)\n",
      "Requirement already satisfied: wrapt in /home/lillian/.local/lib/python3.10/site-packages (from unstructured) (1.14.1)\n",
      "Requirement already satisfied: certifi>=2023.7.22 in /home/lillian/anaconda3/envs/week1110/lib/python3.10/site-packages (from unstructured-client>=0.15.1->unstructured) (2024.2.2)\n",
      "Requirement already satisfied: charset-normalizer>=3.2.0 in /home/lillian/.local/lib/python3.10/site-packages (from unstructured-client>=0.15.1->unstructured) (3.3.2)\n",
      "Collecting dataclasses-json-speakeasy>=0.5.11 (from unstructured-client>=0.15.1->unstructured)\n",
      "  Downloading dataclasses_json_speakeasy-0.5.11-py3-none-any.whl.metadata (25 kB)\n",
      "Requirement already satisfied: idna>=3.4 in /home/lillian/anaconda3/envs/week1110/lib/python3.10/site-packages (from unstructured-client>=0.15.1->unstructured) (3.6)\n",
      "Collecting jsonpath-python>=1.0.6 (from unstructured-client>=0.15.1->unstructured)\n",
      "  Downloading jsonpath_python-1.0.6-py3-none-any.whl.metadata (12 kB)\n",
      "Requirement already satisfied: marshmallow>=3.19.0 in /home/lillian/.local/lib/python3.10/site-packages (from unstructured-client>=0.15.1->unstructured) (3.20.2)\n",
      "Requirement already satisfied: mypy-extensions>=1.0.0 in /home/lillian/.local/lib/python3.10/site-packages (from unstructured-client>=0.15.1->unstructured) (1.0.0)\n",
      "Requirement already satisfied: packaging>=23.1 in /home/lillian/.local/lib/python3.10/site-packages (from unstructured-client>=0.15.1->unstructured) (23.2)\n",
      "Requirement already satisfied: python-dateutil>=2.8.2 in /home/lillian/.local/lib/python3.10/site-packages (from unstructured-client>=0.15.1->unstructured) (2.8.2)\n",
      "Requirement already satisfied: six>=1.16.0 in /home/lillian/anaconda3/envs/week1110/lib/python3.10/site-packages (from unstructured-client>=0.15.1->unstructured) (1.16.0)\n",
      "Requirement already satisfied: typing-inspect>=0.9.0 in /home/lillian/.local/lib/python3.10/site-packages (from unstructured-client>=0.15.1->unstructured) (0.9.0)\n",
      "Requirement already satisfied: urllib3>=1.26.18 in /home/lillian/.local/lib/python3.10/site-packages (from unstructured-client>=0.15.1->unstructured) (2.2.0)\n",
      "Requirement already satisfied: soupsieve>1.2 in /home/lillian/.local/lib/python3.10/site-packages (from beautifulsoup4->unstructured) (2.5)\n",
      "Requirement already satisfied: click in /home/lillian/anaconda3/envs/week1110/lib/python3.10/site-packages (from nltk->unstructured) (8.1.7)\n",
      "Requirement already satisfied: joblib in /home/lillian/.local/lib/python3.10/site-packages (from nltk->unstructured) (1.3.2)\n",
      "Requirement already satisfied: regex>=2021.8.3 in /home/lillian/.local/lib/python3.10/site-packages (from nltk->unstructured) (2023.12.25)\n",
      "Requirement already satisfied: tqdm in /home/lillian/.local/lib/python3.10/site-packages (from nltk->unstructured) (4.66.1)\n",
      "Downloading unstructured-0.12.4-py3-none-any.whl (1.8 MB)\n",
      "\u001b[2K   \u001b[90m━━━━━━━━━━━━━━━━━━━━━━━━━━━━━━━━━━━━━━━━\u001b[0m \u001b[32m1.8/1.8 MB\u001b[0m \u001b[31m11.6 MB/s\u001b[0m eta \u001b[36m0:00:00\u001b[0m00:01\u001b[0m00:01\u001b[0m\n",
      "\u001b[?25hDownloading unstructured_client-0.18.0-py3-none-any.whl (21 kB)\n",
      "Using cached backoff-2.2.1-py3-none-any.whl (15 kB)\n",
      "Downloading chardet-5.2.0-py3-none-any.whl (199 kB)\n",
      "\u001b[2K   \u001b[90m━━━━━━━━━━━━━━━━━━━━━━━━━━━━━━━━━━━━━━━━\u001b[0m \u001b[32m199.4/199.4 kB\u001b[0m \u001b[31m8.8 MB/s\u001b[0m eta \u001b[36m0:00:00\u001b[0m\n",
      "\u001b[?25hDownloading emoji-2.10.1-py2.py3-none-any.whl (421 kB)\n",
      "\u001b[2K   \u001b[90m━━━━━━━━━━━━━━━━━━━━━━━━━━━━━━━━━━━━━━━━\u001b[0m \u001b[32m421.5/421.5 kB\u001b[0m \u001b[31m17.9 MB/s\u001b[0m eta \u001b[36m0:00:00\u001b[0m\n",
      "\u001b[?25hDownloading filetype-1.2.0-py2.py3-none-any.whl (19 kB)\n",
      "Using cached nltk-3.8.1-py3-none-any.whl (1.5 MB)\n",
      "Downloading python_iso639-2024.2.7-py3-none-any.whl (274 kB)\n",
      "\u001b[2K   \u001b[90m━━━━━━━━━━━━━━━━━━━━━━━━━━━━━━━━━━━━━━━━\u001b[0m \u001b[32m274.7/274.7 kB\u001b[0m \u001b[31m10.6 MB/s\u001b[0m eta \u001b[36m0:00:00\u001b[0m\n",
      "\u001b[?25hDownloading python_magic-0.4.27-py2.py3-none-any.whl (13 kB)\n",
      "Using cached rapidfuzz-3.6.1-cp310-cp310-manylinux_2_17_x86_64.manylinux2014_x86_64.whl (3.4 MB)\n",
      "Downloading tabulate-0.9.0-py3-none-any.whl (35 kB)\n",
      "Downloading dataclasses_json_speakeasy-0.5.11-py3-none-any.whl (28 kB)\n",
      "Downloading jsonpath_python-1.0.6-py3-none-any.whl (7.6 kB)\n",
      "Building wheels for collected packages: langdetect\n",
      "  Building wheel for langdetect (setup.py) ... \u001b[?25ldone\n",
      "\u001b[?25h  Created wheel for langdetect: filename=langdetect-1.0.9-py3-none-any.whl size=993224 sha256=28733b801a9556188141f30836507c866415cba05a4143150f47d4b7eae3a371\n",
      "  Stored in directory: /home/lillian/.cache/pip/wheels/95/03/7d/59ea870c70ce4e5a370638b5462a7711ab78fba2f655d05106\n",
      "Successfully built langdetect\n",
      "Installing collected packages: filetype, tabulate, rapidfuzz, python-magic, python-iso639, nltk, langdetect, jsonpath-python, emoji, chardet, backoff, dataclasses-json-speakeasy, unstructured-client, unstructured\n",
      "Successfully installed backoff-2.2.1 chardet-5.2.0 dataclasses-json-speakeasy-0.5.11 emoji-2.10.1 filetype-1.2.0 jsonpath-python-1.0.6 langdetect-1.0.9 nltk-3.8.1 python-iso639-2024.2.7 python-magic-0.4.27 rapidfuzz-3.6.1 tabulate-0.9.0 unstructured-0.12.4 unstructured-client-0.18.0\n"
     ]
    }
   ],
   "source": [
    "!pip install unstructured"
   ]
  },
  {
   "cell_type": "code",
   "execution_count": 6,
   "metadata": {},
   "outputs": [
    {
     "name": "stdout",
     "output_type": "stream",
     "text": [
      "Requirement already satisfied: ragas in /home/lillian/.local/lib/python3.10/site-packages (0.0.22)\n",
      "Requirement already satisfied: numpy in /home/lillian/.local/lib/python3.10/site-packages (from ragas) (1.26.3)\n",
      "Requirement already satisfied: datasets in /home/lillian/.local/lib/python3.10/site-packages (from ragas) (2.10.1)\n",
      "Requirement already satisfied: tiktoken in /home/lillian/.local/lib/python3.10/site-packages (from ragas) (0.6.0)\n",
      "Requirement already satisfied: langchain in /home/lillian/.local/lib/python3.10/site-packages (from ragas) (0.1.4)\n",
      "Requirement already satisfied: openai>1 in /home/lillian/.local/lib/python3.10/site-packages (from ragas) (1.12.0)\n",
      "Requirement already satisfied: pysbd>=0.3.4 in /home/lillian/.local/lib/python3.10/site-packages (from ragas) (0.3.4)\n",
      "Requirement already satisfied: nest-asyncio in /home/lillian/.local/lib/python3.10/site-packages (from ragas) (1.5.9)\n",
      "Requirement already satisfied: anyio<5,>=3.5.0 in /home/lillian/anaconda3/envs/week1110/lib/python3.10/site-packages (from openai>1->ragas) (4.3.0)\n",
      "Requirement already satisfied: distro<2,>=1.7.0 in /home/lillian/anaconda3/envs/week1110/lib/python3.10/site-packages (from openai>1->ragas) (1.9.0)\n",
      "Requirement already satisfied: httpx<1,>=0.23.0 in /home/lillian/.local/lib/python3.10/site-packages (from openai>1->ragas) (0.26.0)\n",
      "Requirement already satisfied: pydantic<3,>=1.9.0 in /home/lillian/anaconda3/envs/week1110/lib/python3.10/site-packages (from openai>1->ragas) (2.6.2)\n",
      "Requirement already satisfied: sniffio in /home/lillian/anaconda3/envs/week1110/lib/python3.10/site-packages (from openai>1->ragas) (1.3.0)\n",
      "Requirement already satisfied: tqdm>4 in /home/lillian/.local/lib/python3.10/site-packages (from openai>1->ragas) (4.66.1)\n",
      "Requirement already satisfied: typing-extensions<5,>=4.7 in /home/lillian/anaconda3/envs/week1110/lib/python3.10/site-packages (from openai>1->ragas) (4.9.0)\n",
      "Requirement already satisfied: pyarrow>=6.0.0 in /home/lillian/.local/lib/python3.10/site-packages (from datasets->ragas) (14.0.2)\n",
      "Requirement already satisfied: dill<0.3.7,>=0.3.0 in /home/lillian/.local/lib/python3.10/site-packages (from datasets->ragas) (0.3.6)\n",
      "Requirement already satisfied: pandas in /home/lillian/.local/lib/python3.10/site-packages (from datasets->ragas) (2.1.4)\n",
      "Requirement already satisfied: requests>=2.19.0 in /home/lillian/.local/lib/python3.10/site-packages (from datasets->ragas) (2.31.0)\n",
      "Requirement already satisfied: xxhash in /home/lillian/.local/lib/python3.10/site-packages (from datasets->ragas) (3.4.1)\n",
      "Requirement already satisfied: multiprocess in /home/lillian/.local/lib/python3.10/site-packages (from datasets->ragas) (0.70.14)\n",
      "Requirement already satisfied: fsspec>=2021.11.1 in /home/lillian/.local/lib/python3.10/site-packages (from fsspec[http]>=2021.11.1->datasets->ragas) (2023.12.2)\n",
      "Requirement already satisfied: aiohttp in /home/lillian/.local/lib/python3.10/site-packages (from datasets->ragas) (3.9.1)\n",
      "Requirement already satisfied: huggingface-hub<1.0.0,>=0.2.0 in /home/lillian/.local/lib/python3.10/site-packages (from datasets->ragas) (0.20.2)\n",
      "Requirement already satisfied: packaging in /home/lillian/.local/lib/python3.10/site-packages (from datasets->ragas) (23.2)\n",
      "Requirement already satisfied: responses<0.19 in /home/lillian/.local/lib/python3.10/site-packages (from datasets->ragas) (0.18.0)\n",
      "Requirement already satisfied: pyyaml>=5.1 in /home/lillian/anaconda3/envs/week1110/lib/python3.10/site-packages (from datasets->ragas) (6.0.1)\n",
      "Requirement already satisfied: SQLAlchemy<3,>=1.4 in /home/lillian/.local/lib/python3.10/site-packages (from langchain->ragas) (2.0.25)\n",
      "Requirement already satisfied: async-timeout<5.0.0,>=4.0.0 in /home/lillian/.local/lib/python3.10/site-packages (from langchain->ragas) (4.0.3)\n",
      "Requirement already satisfied: dataclasses-json<0.7,>=0.5.7 in /home/lillian/.local/lib/python3.10/site-packages (from langchain->ragas) (0.5.14)\n",
      "Requirement already satisfied: jsonpatch<2.0,>=1.33 in /home/lillian/.local/lib/python3.10/site-packages (from langchain->ragas) (1.33)\n",
      "Requirement already satisfied: langchain-community<0.1,>=0.0.14 in /home/lillian/.local/lib/python3.10/site-packages (from langchain->ragas) (0.0.16)\n",
      "Requirement already satisfied: langchain-core<0.2,>=0.1.16 in /home/lillian/.local/lib/python3.10/site-packages (from langchain->ragas) (0.1.17)\n",
      "Requirement already satisfied: langsmith<0.1,>=0.0.83 in /home/lillian/.local/lib/python3.10/site-packages (from langchain->ragas) (0.0.85)\n",
      "Requirement already satisfied: tenacity<9.0.0,>=8.1.0 in /home/lillian/.local/lib/python3.10/site-packages (from langchain->ragas) (8.2.3)\n",
      "Requirement already satisfied: regex>=2022.1.18 in /home/lillian/.local/lib/python3.10/site-packages (from tiktoken->ragas) (2023.12.25)\n",
      "Requirement already satisfied: attrs>=17.3.0 in /home/lillian/.local/lib/python3.10/site-packages (from aiohttp->datasets->ragas) (23.2.0)\n",
      "Requirement already satisfied: multidict<7.0,>=4.5 in /home/lillian/.local/lib/python3.10/site-packages (from aiohttp->datasets->ragas) (6.0.4)\n",
      "Requirement already satisfied: yarl<2.0,>=1.0 in /home/lillian/.local/lib/python3.10/site-packages (from aiohttp->datasets->ragas) (1.9.4)\n",
      "Requirement already satisfied: frozenlist>=1.1.1 in /home/lillian/.local/lib/python3.10/site-packages (from aiohttp->datasets->ragas) (1.4.1)\n",
      "Requirement already satisfied: aiosignal>=1.1.2 in /home/lillian/.local/lib/python3.10/site-packages (from aiohttp->datasets->ragas) (1.3.1)\n",
      "Requirement already satisfied: idna>=2.8 in /home/lillian/anaconda3/envs/week1110/lib/python3.10/site-packages (from anyio<5,>=3.5.0->openai>1->ragas) (3.6)\n",
      "Requirement already satisfied: exceptiongroup>=1.0.2 in /home/lillian/anaconda3/envs/week1110/lib/python3.10/site-packages (from anyio<5,>=3.5.0->openai>1->ragas) (1.2.0)\n",
      "Requirement already satisfied: marshmallow<4.0.0,>=3.18.0 in /home/lillian/.local/lib/python3.10/site-packages (from dataclasses-json<0.7,>=0.5.7->langchain->ragas) (3.20.2)\n",
      "Requirement already satisfied: typing-inspect<1,>=0.4.0 in /home/lillian/.local/lib/python3.10/site-packages (from dataclasses-json<0.7,>=0.5.7->langchain->ragas) (0.9.0)\n",
      "Requirement already satisfied: certifi in /home/lillian/anaconda3/envs/week1110/lib/python3.10/site-packages (from httpx<1,>=0.23.0->openai>1->ragas) (2024.2.2)\n",
      "Requirement already satisfied: httpcore==1.* in /home/lillian/.local/lib/python3.10/site-packages (from httpx<1,>=0.23.0->openai>1->ragas) (1.0.2)\n",
      "Requirement already satisfied: h11<0.15,>=0.13 in /home/lillian/.local/lib/python3.10/site-packages (from httpcore==1.*->httpx<1,>=0.23.0->openai>1->ragas) (0.14.0)\n",
      "Requirement already satisfied: filelock in /home/lillian/.local/lib/python3.10/site-packages (from huggingface-hub<1.0.0,>=0.2.0->datasets->ragas) (3.13.1)\n",
      "Requirement already satisfied: jsonpointer>=1.9 in /home/lillian/.local/lib/python3.10/site-packages (from jsonpatch<2.0,>=1.33->langchain->ragas) (2.4)\n",
      "Requirement already satisfied: annotated-types>=0.4.0 in /home/lillian/anaconda3/envs/week1110/lib/python3.10/site-packages (from pydantic<3,>=1.9.0->openai>1->ragas) (0.6.0)\n",
      "Requirement already satisfied: pydantic-core==2.16.3 in /home/lillian/anaconda3/envs/week1110/lib/python3.10/site-packages (from pydantic<3,>=1.9.0->openai>1->ragas) (2.16.3)\n",
      "Requirement already satisfied: charset-normalizer<4,>=2 in /home/lillian/.local/lib/python3.10/site-packages (from requests>=2.19.0->datasets->ragas) (3.3.2)\n",
      "Requirement already satisfied: urllib3<3,>=1.21.1 in /home/lillian/.local/lib/python3.10/site-packages (from requests>=2.19.0->datasets->ragas) (2.2.0)\n",
      "Requirement already satisfied: greenlet!=0.4.17 in /home/lillian/.local/lib/python3.10/site-packages (from SQLAlchemy<3,>=1.4->langchain->ragas) (3.0.3)\n",
      "Requirement already satisfied: python-dateutil>=2.8.2 in /home/lillian/.local/lib/python3.10/site-packages (from pandas->datasets->ragas) (2.8.2)\n",
      "Requirement already satisfied: pytz>=2020.1 in /home/lillian/anaconda3/envs/week1110/lib/python3.10/site-packages (from pandas->datasets->ragas) (2024.1)\n",
      "Requirement already satisfied: tzdata>=2022.1 in /home/lillian/.local/lib/python3.10/site-packages (from pandas->datasets->ragas) (2023.4)\n",
      "Requirement already satisfied: six>=1.5 in /home/lillian/anaconda3/envs/week1110/lib/python3.10/site-packages (from python-dateutil>=2.8.2->pandas->datasets->ragas) (1.16.0)\n",
      "Requirement already satisfied: mypy-extensions>=0.3.0 in /home/lillian/.local/lib/python3.10/site-packages (from typing-inspect<1,>=0.4.0->dataclasses-json<0.7,>=0.5.7->langchain->ragas) (1.0.0)\n"
     ]
    }
   ],
   "source": [
    "!pip install ragas"
   ]
  },
  {
   "cell_type": "code",
   "execution_count": 7,
   "metadata": {},
   "outputs": [],
   "source": [
    "from langchain_community.document_loaders import DirectoryLoader\n",
    "loader = DirectoryLoader(\"/home/lillian/Documents/TenAcademy/week11/Contract-AI-Chatbot/backend/data/evaluation_data\")\n",
    "documents = loader.load()\n"
   ]
  },
  {
   "cell_type": "code",
   "execution_count": 8,
   "metadata": {},
   "outputs": [
    {
     "name": "stdout",
     "output_type": "stream",
     "text": [
      "2\n"
     ]
    }
   ],
   "source": [
    "print(len(documents))"
   ]
  },
  {
   "cell_type": "code",
   "execution_count": 1,
   "metadata": {},
   "outputs": [
    {
     "name": "stdout",
     "output_type": "stream",
     "text": [
      "Name: llama-index\n",
      "Version: 0.10.12\n",
      "Summary: Interface between LLMs and your data\n",
      "Home-page: https://llamaindex.ai\n",
      "Author: Jerry Liu\n",
      "Author-email: jerry@llamaindex.ai\n",
      "License: MIT\n",
      "Location: /home/lillian/anaconda3/envs/week1110/lib/python3.10/site-packages\n",
      "Requires: llama-index-agent-openai, llama-index-cli, llama-index-core, llama-index-embeddings-openai, llama-index-indices-managed-llama-cloud, llama-index-legacy, llama-index-llms-openai, llama-index-multi-modal-llms-openai, llama-index-program-openai, llama-index-question-gen-openai, llama-index-readers-file, llama-index-readers-llama-parse\n",
      "Required-by: \n"
     ]
    }
   ],
   "source": [
    "!pip show llama_index"
   ]
  },
  {
   "cell_type": "code",
   "execution_count": 9,
   "metadata": {},
   "outputs": [
    {
     "ename": "ImportError",
     "evalue": "llama_index must be installed to use this function. Please, install it with `pip install llama_index`.",
     "output_type": "error",
     "traceback": [
      "\u001b[0;31m---------------------------------------------------------------------------\u001b[0m",
      "\u001b[0;31mModuleNotFoundError\u001b[0m                       Traceback (most recent call last)",
      "File \u001b[0;32m~/.local/lib/python3.10/site-packages/ragas/testset/testset_generator.py:9\u001b[0m\n\u001b[1;32m      8\u001b[0m \u001b[38;5;28;01mtry\u001b[39;00m:\n\u001b[0;32m----> 9\u001b[0m     \u001b[38;5;28;01mfrom\u001b[39;00m \u001b[38;5;21;01mllama_index\u001b[39;00m\u001b[38;5;21;01m.\u001b[39;00m\u001b[38;5;21;01mindices\u001b[39;00m\u001b[38;5;21;01m.\u001b[39;00m\u001b[38;5;21;01mquery\u001b[39;00m\u001b[38;5;21;01m.\u001b[39;00m\u001b[38;5;21;01membedding_utils\u001b[39;00m \u001b[38;5;28;01mimport\u001b[39;00m get_top_k_embeddings\n\u001b[1;32m     10\u001b[0m     \u001b[38;5;28;01mfrom\u001b[39;00m \u001b[38;5;21;01mllama_index\u001b[39;00m\u001b[38;5;21;01m.\u001b[39;00m\u001b[38;5;21;01mnode_parser\u001b[39;00m \u001b[38;5;28;01mimport\u001b[39;00m SimpleNodeParser\n",
      "\u001b[0;31mModuleNotFoundError\u001b[0m: No module named 'llama_index.indices.query'",
      "\nDuring handling of the above exception, another exception occurred:\n",
      "\u001b[0;31mImportError\u001b[0m                               Traceback (most recent call last)",
      "Cell \u001b[0;32mIn[9], line 1\u001b[0m\n\u001b[0;32m----> 1\u001b[0m \u001b[38;5;28;01mfrom\u001b[39;00m \u001b[38;5;21;01mragas\u001b[39;00m\u001b[38;5;21;01m.\u001b[39;00m\u001b[38;5;21;01mtestset\u001b[39;00m \u001b[38;5;28;01mimport\u001b[39;00m TestsetGenerator\n\u001b[1;32m      2\u001b[0m \u001b[38;5;28;01mfrom\u001b[39;00m \u001b[38;5;21;01mragas\u001b[39;00m\u001b[38;5;21;01m.\u001b[39;00m\u001b[38;5;21;01mtestset\u001b[39;00m \u001b[38;5;28;01mimport\u001b[39;00m simple, reasoning, multi_context\n\u001b[1;32m      4\u001b[0m \u001b[38;5;66;03m# generator with openai models\u001b[39;00m\n",
      "File \u001b[0;32m~/.local/lib/python3.10/site-packages/ragas/testset/__init__.py:1\u001b[0m\n\u001b[0;32m----> 1\u001b[0m \u001b[38;5;28;01mfrom\u001b[39;00m \u001b[38;5;21;01mragas\u001b[39;00m\u001b[38;5;21;01m.\u001b[39;00m\u001b[38;5;21;01mtestset\u001b[39;00m\u001b[38;5;21;01m.\u001b[39;00m\u001b[38;5;21;01mtestset_generator\u001b[39;00m \u001b[38;5;28;01mimport\u001b[39;00m TestsetGenerator\n\u001b[1;32m      3\u001b[0m __all__ \u001b[38;5;241m=\u001b[39m [\u001b[38;5;124m\"\u001b[39m\u001b[38;5;124mTestsetGenerator\u001b[39m\u001b[38;5;124m\"\u001b[39m]\n",
      "File \u001b[0;32m~/.local/lib/python3.10/site-packages/ragas/testset/testset_generator.py:14\u001b[0m\n\u001b[1;32m     12\u001b[0m     \u001b[38;5;28;01mfrom\u001b[39;00m \u001b[38;5;21;01mllama_index\u001b[39;00m\u001b[38;5;21;01m.\u001b[39;00m\u001b[38;5;21;01mschema\u001b[39;00m \u001b[38;5;28;01mimport\u001b[39;00m BaseNode\n\u001b[1;32m     13\u001b[0m \u001b[38;5;28;01mexcept\u001b[39;00m \u001b[38;5;167;01mImportError\u001b[39;00m:\n\u001b[0;32m---> 14\u001b[0m     \u001b[38;5;28;01mraise\u001b[39;00m \u001b[38;5;167;01mImportError\u001b[39;00m(\n\u001b[1;32m     15\u001b[0m         \u001b[38;5;124m\"\u001b[39m\u001b[38;5;124mllama_index must be installed to use this function. \u001b[39m\u001b[38;5;124m\"\u001b[39m\n\u001b[1;32m     16\u001b[0m         \u001b[38;5;124m\"\u001b[39m\u001b[38;5;124mPlease, install it with `pip install llama_index`.\u001b[39m\u001b[38;5;124m\"\u001b[39m\n\u001b[1;32m     17\u001b[0m     )\n\u001b[1;32m     19\u001b[0m \u001b[38;5;28;01mimport\u001b[39;00m \u001b[38;5;21;01mnumpy\u001b[39;00m \u001b[38;5;28;01mas\u001b[39;00m \u001b[38;5;21;01mnp\u001b[39;00m\n\u001b[1;32m     20\u001b[0m \u001b[38;5;28;01mimport\u001b[39;00m \u001b[38;5;21;01mnumpy\u001b[39;00m\u001b[38;5;21;01m.\u001b[39;00m\u001b[38;5;21;01mtesting\u001b[39;00m \u001b[38;5;28;01mas\u001b[39;00m \u001b[38;5;21;01mnpt\u001b[39;00m\n",
      "\u001b[0;31mImportError\u001b[0m: llama_index must be installed to use this function. Please, install it with `pip install llama_index`."
     ]
    }
   ],
   "source": [
    "from ragas.testset import TestsetGenerator\n",
    "from ragas.testset import simple, reasoning, multi_context\n",
    "\n",
    "# generator with openai models\n",
    "generator = TestsetGenerator.with_openai()\n",
    "\n",
    "# generate testset\n",
    "testset = generator.generate_with_langchain_docs(documents, test_size=10, distributions={simple: 0.5, reasoning: 0.25, multi_context: 0.25})"
   ]
  },
  {
   "cell_type": "code",
   "execution_count": 10,
   "metadata": {},
   "outputs": [
    {
     "name": "stdout",
     "output_type": "stream",
     "text": [
      "Requirement already satisfied: llama_index in /home/lillian/anaconda3/envs/week1110/lib/python3.10/site-packages (0.10.12)\n",
      "Requirement already satisfied: llama-index-agent-openai<0.2.0,>=0.1.4 in /home/lillian/anaconda3/envs/week1110/lib/python3.10/site-packages (from llama_index) (0.1.5)\n",
      "Requirement already satisfied: llama-index-cli<0.2.0,>=0.1.2 in /home/lillian/anaconda3/envs/week1110/lib/python3.10/site-packages (from llama_index) (0.1.5)\n",
      "Requirement already satisfied: llama-index-core<0.11.0,>=0.10.12 in /home/lillian/anaconda3/envs/week1110/lib/python3.10/site-packages (from llama_index) (0.10.12)\n",
      "Requirement already satisfied: llama-index-embeddings-openai<0.2.0,>=0.1.5 in /home/lillian/anaconda3/envs/week1110/lib/python3.10/site-packages (from llama_index) (0.1.6)\n",
      "Requirement already satisfied: llama-index-indices-managed-llama-cloud<0.2.0,>=0.1.2 in /home/lillian/anaconda3/envs/week1110/lib/python3.10/site-packages (from llama_index) (0.1.3)\n",
      "Requirement already satisfied: llama-index-legacy<0.10.0,>=0.9.48 in /home/lillian/anaconda3/envs/week1110/lib/python3.10/site-packages (from llama_index) (0.9.48)\n",
      "Requirement already satisfied: llama-index-llms-openai<0.2.0,>=0.1.5 in /home/lillian/anaconda3/envs/week1110/lib/python3.10/site-packages (from llama_index) (0.1.6)\n",
      "Requirement already satisfied: llama-index-multi-modal-llms-openai<0.2.0,>=0.1.3 in /home/lillian/anaconda3/envs/week1110/lib/python3.10/site-packages (from llama_index) (0.1.4)\n",
      "Requirement already satisfied: llama-index-program-openai<0.2.0,>=0.1.3 in /home/lillian/anaconda3/envs/week1110/lib/python3.10/site-packages (from llama_index) (0.1.4)\n",
      "Requirement already satisfied: llama-index-question-gen-openai<0.2.0,>=0.1.2 in /home/lillian/anaconda3/envs/week1110/lib/python3.10/site-packages (from llama_index) (0.1.3)\n",
      "Requirement already satisfied: llama-index-readers-file<0.2.0,>=0.1.4 in /home/lillian/anaconda3/envs/week1110/lib/python3.10/site-packages (from llama_index) (0.1.5)\n",
      "Requirement already satisfied: llama-index-readers-llama-parse<0.2.0,>=0.1.2 in /home/lillian/anaconda3/envs/week1110/lib/python3.10/site-packages (from llama_index) (0.1.3)\n",
      "Requirement already satisfied: llama-index-vector-stores-chroma<0.2.0,>=0.1.1 in /home/lillian/anaconda3/envs/week1110/lib/python3.10/site-packages (from llama-index-cli<0.2.0,>=0.1.2->llama_index) (0.1.4)\n",
      "Requirement already satisfied: PyYAML>=6.0.1 in /home/lillian/anaconda3/envs/week1110/lib/python3.10/site-packages (from llama-index-core<0.11.0,>=0.10.12->llama_index) (6.0.1)\n",
      "Requirement already satisfied: SQLAlchemy>=1.4.49 in /home/lillian/.local/lib/python3.10/site-packages (from SQLAlchemy[asyncio]>=1.4.49->llama-index-core<0.11.0,>=0.10.12->llama_index) (2.0.25)\n",
      "Requirement already satisfied: aiohttp<4.0.0,>=3.8.6 in /home/lillian/.local/lib/python3.10/site-packages (from llama-index-core<0.11.0,>=0.10.12->llama_index) (3.9.1)\n",
      "Requirement already satisfied: dataclasses-json in /home/lillian/.local/lib/python3.10/site-packages (from llama-index-core<0.11.0,>=0.10.12->llama_index) (0.5.14)\n",
      "Requirement already satisfied: deprecated>=1.2.9.3 in /home/lillian/anaconda3/envs/week1110/lib/python3.10/site-packages (from llama-index-core<0.11.0,>=0.10.12->llama_index) (1.2.14)\n",
      "Requirement already satisfied: dirtyjson<2.0.0,>=1.0.8 in /home/lillian/anaconda3/envs/week1110/lib/python3.10/site-packages (from llama-index-core<0.11.0,>=0.10.12->llama_index) (1.0.8)\n",
      "Requirement already satisfied: fsspec>=2023.5.0 in /home/lillian/.local/lib/python3.10/site-packages (from llama-index-core<0.11.0,>=0.10.12->llama_index) (2023.12.2)\n",
      "Requirement already satisfied: httpx in /home/lillian/.local/lib/python3.10/site-packages (from llama-index-core<0.11.0,>=0.10.12->llama_index) (0.26.0)\n",
      "Requirement already satisfied: llamaindex-py-client<0.2.0,>=0.1.13 in /home/lillian/anaconda3/envs/week1110/lib/python3.10/site-packages (from llama-index-core<0.11.0,>=0.10.12->llama_index) (0.1.13)\n",
      "Requirement already satisfied: nest-asyncio<2.0.0,>=1.5.8 in /home/lillian/.local/lib/python3.10/site-packages (from llama-index-core<0.11.0,>=0.10.12->llama_index) (1.5.9)\n",
      "Requirement already satisfied: networkx>=3.0 in /home/lillian/.local/lib/python3.10/site-packages (from llama-index-core<0.11.0,>=0.10.12->llama_index) (3.2.1)\n",
      "Requirement already satisfied: nltk<4.0.0,>=3.8.1 in /home/lillian/anaconda3/envs/week1110/lib/python3.10/site-packages (from llama-index-core<0.11.0,>=0.10.12->llama_index) (3.8.1)\n",
      "Requirement already satisfied: numpy in /home/lillian/.local/lib/python3.10/site-packages (from llama-index-core<0.11.0,>=0.10.12->llama_index) (1.26.3)\n",
      "Requirement already satisfied: openai>=1.1.0 in /home/lillian/.local/lib/python3.10/site-packages (from llama-index-core<0.11.0,>=0.10.12->llama_index) (1.12.0)\n",
      "Requirement already satisfied: pandas in /home/lillian/.local/lib/python3.10/site-packages (from llama-index-core<0.11.0,>=0.10.12->llama_index) (2.1.4)\n",
      "Requirement already satisfied: pillow>=9.0.0 in /home/lillian/anaconda3/envs/week1110/lib/python3.10/site-packages (from llama-index-core<0.11.0,>=0.10.12->llama_index) (10.2.0)\n",
      "Requirement already satisfied: requests>=2.31.0 in /home/lillian/.local/lib/python3.10/site-packages (from llama-index-core<0.11.0,>=0.10.12->llama_index) (2.31.0)\n",
      "Requirement already satisfied: tenacity<9.0.0,>=8.2.0 in /home/lillian/.local/lib/python3.10/site-packages (from llama-index-core<0.11.0,>=0.10.12->llama_index) (8.2.3)\n",
      "Requirement already satisfied: tiktoken>=0.3.3 in /home/lillian/.local/lib/python3.10/site-packages (from llama-index-core<0.11.0,>=0.10.12->llama_index) (0.6.0)\n",
      "Requirement already satisfied: tqdm<5.0.0,>=4.66.1 in /home/lillian/.local/lib/python3.10/site-packages (from llama-index-core<0.11.0,>=0.10.12->llama_index) (4.66.1)\n",
      "Requirement already satisfied: typing-extensions>=4.5.0 in /home/lillian/anaconda3/envs/week1110/lib/python3.10/site-packages (from llama-index-core<0.11.0,>=0.10.12->llama_index) (4.9.0)\n",
      "Requirement already satisfied: typing-inspect>=0.8.0 in /home/lillian/.local/lib/python3.10/site-packages (from llama-index-core<0.11.0,>=0.10.12->llama_index) (0.9.0)\n",
      "Requirement already satisfied: beautifulsoup4<5.0.0,>=4.12.3 in /home/lillian/anaconda3/envs/week1110/lib/python3.10/site-packages (from llama-index-readers-file<0.2.0,>=0.1.4->llama_index) (4.12.3)\n",
      "Requirement already satisfied: bs4<0.0.3,>=0.0.2 in /home/lillian/anaconda3/envs/week1110/lib/python3.10/site-packages (from llama-index-readers-file<0.2.0,>=0.1.4->llama_index) (0.0.2)\n",
      "Requirement already satisfied: pymupdf<2.0.0,>=1.23.21 in /home/lillian/anaconda3/envs/week1110/lib/python3.10/site-packages (from llama-index-readers-file<0.2.0,>=0.1.4->llama_index) (1.23.25)\n",
      "Requirement already satisfied: pypdf<5.0.0,>=4.0.1 in /home/lillian/.local/lib/python3.10/site-packages (from llama-index-readers-file<0.2.0,>=0.1.4->llama_index) (4.0.2)\n",
      "Requirement already satisfied: llama-parse<0.4.0,>=0.3.3 in /home/lillian/anaconda3/envs/week1110/lib/python3.10/site-packages (from llama-index-readers-llama-parse<0.2.0,>=0.1.2->llama_index) (0.3.4)\n",
      "Requirement already satisfied: attrs>=17.3.0 in /home/lillian/.local/lib/python3.10/site-packages (from aiohttp<4.0.0,>=3.8.6->llama-index-core<0.11.0,>=0.10.12->llama_index) (23.2.0)\n",
      "Requirement already satisfied: multidict<7.0,>=4.5 in /home/lillian/.local/lib/python3.10/site-packages (from aiohttp<4.0.0,>=3.8.6->llama-index-core<0.11.0,>=0.10.12->llama_index) (6.0.4)\n",
      "Requirement already satisfied: yarl<2.0,>=1.0 in /home/lillian/.local/lib/python3.10/site-packages (from aiohttp<4.0.0,>=3.8.6->llama-index-core<0.11.0,>=0.10.12->llama_index) (1.9.4)\n",
      "Requirement already satisfied: frozenlist>=1.1.1 in /home/lillian/.local/lib/python3.10/site-packages (from aiohttp<4.0.0,>=3.8.6->llama-index-core<0.11.0,>=0.10.12->llama_index) (1.4.1)\n",
      "Requirement already satisfied: aiosignal>=1.1.2 in /home/lillian/.local/lib/python3.10/site-packages (from aiohttp<4.0.0,>=3.8.6->llama-index-core<0.11.0,>=0.10.12->llama_index) (1.3.1)\n",
      "Requirement already satisfied: async-timeout<5.0,>=4.0 in /home/lillian/.local/lib/python3.10/site-packages (from aiohttp<4.0.0,>=3.8.6->llama-index-core<0.11.0,>=0.10.12->llama_index) (4.0.3)\n",
      "Requirement already satisfied: soupsieve>1.2 in /home/lillian/.local/lib/python3.10/site-packages (from beautifulsoup4<5.0.0,>=4.12.3->llama-index-readers-file<0.2.0,>=0.1.4->llama_index) (2.5)\n",
      "Requirement already satisfied: wrapt<2,>=1.10 in /home/lillian/.local/lib/python3.10/site-packages (from deprecated>=1.2.9.3->llama-index-core<0.11.0,>=0.10.12->llama_index) (1.14.1)\n",
      "Requirement already satisfied: chromadb<0.5.0,>=0.4.22 in /home/lillian/anaconda3/envs/week1110/lib/python3.10/site-packages (from llama-index-vector-stores-chroma<0.2.0,>=0.1.1->llama-index-cli<0.2.0,>=0.1.2->llama_index) (0.4.23)\n",
      "Requirement already satisfied: onnxruntime<2.0.0,>=1.17.0 in /home/lillian/anaconda3/envs/week1110/lib/python3.10/site-packages (from llama-index-vector-stores-chroma<0.2.0,>=0.1.1->llama-index-cli<0.2.0,>=0.1.2->llama_index) (1.17.0)\n",
      "Requirement already satisfied: tokenizers<0.16.0,>=0.15.1 in /home/lillian/anaconda3/envs/week1110/lib/python3.10/site-packages (from llama-index-vector-stores-chroma<0.2.0,>=0.1.1->llama-index-cli<0.2.0,>=0.1.2->llama_index) (0.15.2)\n",
      "Requirement already satisfied: pydantic>=1.10 in /home/lillian/anaconda3/envs/week1110/lib/python3.10/site-packages (from llamaindex-py-client<0.2.0,>=0.1.13->llama-index-core<0.11.0,>=0.10.12->llama_index) (2.6.2)\n",
      "Requirement already satisfied: anyio in /home/lillian/anaconda3/envs/week1110/lib/python3.10/site-packages (from httpx->llama-index-core<0.11.0,>=0.10.12->llama_index) (4.3.0)\n",
      "Requirement already satisfied: certifi in /home/lillian/anaconda3/envs/week1110/lib/python3.10/site-packages (from httpx->llama-index-core<0.11.0,>=0.10.12->llama_index) (2024.2.2)\n",
      "Requirement already satisfied: httpcore==1.* in /home/lillian/.local/lib/python3.10/site-packages (from httpx->llama-index-core<0.11.0,>=0.10.12->llama_index) (1.0.2)\n",
      "Requirement already satisfied: idna in /home/lillian/anaconda3/envs/week1110/lib/python3.10/site-packages (from httpx->llama-index-core<0.11.0,>=0.10.12->llama_index) (3.6)\n",
      "Requirement already satisfied: sniffio in /home/lillian/anaconda3/envs/week1110/lib/python3.10/site-packages (from httpx->llama-index-core<0.11.0,>=0.10.12->llama_index) (1.3.0)\n",
      "Requirement already satisfied: h11<0.15,>=0.13 in /home/lillian/.local/lib/python3.10/site-packages (from httpcore==1.*->httpx->llama-index-core<0.11.0,>=0.10.12->llama_index) (0.14.0)\n",
      "Requirement already satisfied: click in /home/lillian/anaconda3/envs/week1110/lib/python3.10/site-packages (from nltk<4.0.0,>=3.8.1->llama-index-core<0.11.0,>=0.10.12->llama_index) (8.1.7)\n",
      "Requirement already satisfied: joblib in /home/lillian/.local/lib/python3.10/site-packages (from nltk<4.0.0,>=3.8.1->llama-index-core<0.11.0,>=0.10.12->llama_index) (1.3.2)\n",
      "Requirement already satisfied: regex>=2021.8.3 in /home/lillian/.local/lib/python3.10/site-packages (from nltk<4.0.0,>=3.8.1->llama-index-core<0.11.0,>=0.10.12->llama_index) (2023.12.25)\n",
      "Requirement already satisfied: distro<2,>=1.7.0 in /home/lillian/anaconda3/envs/week1110/lib/python3.10/site-packages (from openai>=1.1.0->llama-index-core<0.11.0,>=0.10.12->llama_index) (1.9.0)\n",
      "Requirement already satisfied: PyMuPDFb==1.23.22 in /home/lillian/anaconda3/envs/week1110/lib/python3.10/site-packages (from pymupdf<2.0.0,>=1.23.21->llama-index-readers-file<0.2.0,>=0.1.4->llama_index) (1.23.22)\n",
      "Requirement already satisfied: charset-normalizer<4,>=2 in /home/lillian/.local/lib/python3.10/site-packages (from requests>=2.31.0->llama-index-core<0.11.0,>=0.10.12->llama_index) (3.3.2)\n",
      "Requirement already satisfied: urllib3<3,>=1.21.1 in /home/lillian/.local/lib/python3.10/site-packages (from requests>=2.31.0->llama-index-core<0.11.0,>=0.10.12->llama_index) (2.2.0)\n",
      "Requirement already satisfied: greenlet!=0.4.17 in /home/lillian/.local/lib/python3.10/site-packages (from SQLAlchemy>=1.4.49->SQLAlchemy[asyncio]>=1.4.49->llama-index-core<0.11.0,>=0.10.12->llama_index) (3.0.3)\n",
      "Requirement already satisfied: mypy-extensions>=0.3.0 in /home/lillian/.local/lib/python3.10/site-packages (from typing-inspect>=0.8.0->llama-index-core<0.11.0,>=0.10.12->llama_index) (1.0.0)\n",
      "Requirement already satisfied: marshmallow<4.0.0,>=3.18.0 in /home/lillian/.local/lib/python3.10/site-packages (from dataclasses-json->llama-index-core<0.11.0,>=0.10.12->llama_index) (3.20.2)\n",
      "Requirement already satisfied: python-dateutil>=2.8.2 in /home/lillian/.local/lib/python3.10/site-packages (from pandas->llama-index-core<0.11.0,>=0.10.12->llama_index) (2.8.2)\n",
      "Requirement already satisfied: pytz>=2020.1 in /home/lillian/anaconda3/envs/week1110/lib/python3.10/site-packages (from pandas->llama-index-core<0.11.0,>=0.10.12->llama_index) (2024.1)\n",
      "Requirement already satisfied: tzdata>=2022.1 in /home/lillian/.local/lib/python3.10/site-packages (from pandas->llama-index-core<0.11.0,>=0.10.12->llama_index) (2023.4)\n",
      "Requirement already satisfied: exceptiongroup>=1.0.2 in /home/lillian/anaconda3/envs/week1110/lib/python3.10/site-packages (from anyio->httpx->llama-index-core<0.11.0,>=0.10.12->llama_index) (1.2.0)\n",
      "Requirement already satisfied: build>=1.0.3 in /home/lillian/anaconda3/envs/week1110/lib/python3.10/site-packages (from chromadb<0.5.0,>=0.4.22->llama-index-vector-stores-chroma<0.2.0,>=0.1.1->llama-index-cli<0.2.0,>=0.1.2->llama_index) (1.0.3)\n",
      "Requirement already satisfied: chroma-hnswlib==0.7.3 in /home/lillian/anaconda3/envs/week1110/lib/python3.10/site-packages (from chromadb<0.5.0,>=0.4.22->llama-index-vector-stores-chroma<0.2.0,>=0.1.1->llama-index-cli<0.2.0,>=0.1.2->llama_index) (0.7.3)\n",
      "Requirement already satisfied: fastapi>=0.95.2 in /home/lillian/anaconda3/envs/week1110/lib/python3.10/site-packages (from chromadb<0.5.0,>=0.4.22->llama-index-vector-stores-chroma<0.2.0,>=0.1.1->llama-index-cli<0.2.0,>=0.1.2->llama_index) (0.109.2)\n",
      "Requirement already satisfied: uvicorn>=0.18.3 in /home/lillian/anaconda3/envs/week1110/lib/python3.10/site-packages (from uvicorn[standard]>=0.18.3->chromadb<0.5.0,>=0.4.22->llama-index-vector-stores-chroma<0.2.0,>=0.1.1->llama-index-cli<0.2.0,>=0.1.2->llama_index) (0.27.1)\n",
      "Requirement already satisfied: posthog>=2.4.0 in /home/lillian/anaconda3/envs/week1110/lib/python3.10/site-packages (from chromadb<0.5.0,>=0.4.22->llama-index-vector-stores-chroma<0.2.0,>=0.1.1->llama-index-cli<0.2.0,>=0.1.2->llama_index) (3.4.2)\n",
      "Requirement already satisfied: pulsar-client>=3.1.0 in /home/lillian/anaconda3/envs/week1110/lib/python3.10/site-packages (from chromadb<0.5.0,>=0.4.22->llama-index-vector-stores-chroma<0.2.0,>=0.1.1->llama-index-cli<0.2.0,>=0.1.2->llama_index) (3.4.0)\n",
      "Requirement already satisfied: opentelemetry-api>=1.2.0 in /home/lillian/anaconda3/envs/week1110/lib/python3.10/site-packages (from chromadb<0.5.0,>=0.4.22->llama-index-vector-stores-chroma<0.2.0,>=0.1.1->llama-index-cli<0.2.0,>=0.1.2->llama_index) (1.23.0)\n",
      "Requirement already satisfied: opentelemetry-exporter-otlp-proto-grpc>=1.2.0 in /home/lillian/anaconda3/envs/week1110/lib/python3.10/site-packages (from chromadb<0.5.0,>=0.4.22->llama-index-vector-stores-chroma<0.2.0,>=0.1.1->llama-index-cli<0.2.0,>=0.1.2->llama_index) (1.23.0)\n",
      "Requirement already satisfied: opentelemetry-instrumentation-fastapi>=0.41b0 in /home/lillian/anaconda3/envs/week1110/lib/python3.10/site-packages (from chromadb<0.5.0,>=0.4.22->llama-index-vector-stores-chroma<0.2.0,>=0.1.1->llama-index-cli<0.2.0,>=0.1.2->llama_index) (0.44b0)\n",
      "Requirement already satisfied: opentelemetry-sdk>=1.2.0 in /home/lillian/anaconda3/envs/week1110/lib/python3.10/site-packages (from chromadb<0.5.0,>=0.4.22->llama-index-vector-stores-chroma<0.2.0,>=0.1.1->llama-index-cli<0.2.0,>=0.1.2->llama_index) (1.23.0)\n",
      "Requirement already satisfied: pypika>=0.48.9 in /home/lillian/anaconda3/envs/week1110/lib/python3.10/site-packages (from chromadb<0.5.0,>=0.4.22->llama-index-vector-stores-chroma<0.2.0,>=0.1.1->llama-index-cli<0.2.0,>=0.1.2->llama_index) (0.48.9)\n",
      "Requirement already satisfied: overrides>=7.3.1 in /home/lillian/.local/lib/python3.10/site-packages (from chromadb<0.5.0,>=0.4.22->llama-index-vector-stores-chroma<0.2.0,>=0.1.1->llama-index-cli<0.2.0,>=0.1.2->llama_index) (7.4.0)\n",
      "Requirement already satisfied: importlib-resources in /home/lillian/.local/lib/python3.10/site-packages (from chromadb<0.5.0,>=0.4.22->llama-index-vector-stores-chroma<0.2.0,>=0.1.1->llama-index-cli<0.2.0,>=0.1.2->llama_index) (6.1.1)\n",
      "Requirement already satisfied: grpcio>=1.58.0 in /home/lillian/.local/lib/python3.10/site-packages (from chromadb<0.5.0,>=0.4.22->llama-index-vector-stores-chroma<0.2.0,>=0.1.1->llama-index-cli<0.2.0,>=0.1.2->llama_index) (1.60.1)\n",
      "Requirement already satisfied: bcrypt>=4.0.1 in /home/lillian/anaconda3/envs/week1110/lib/python3.10/site-packages (from chromadb<0.5.0,>=0.4.22->llama-index-vector-stores-chroma<0.2.0,>=0.1.1->llama-index-cli<0.2.0,>=0.1.2->llama_index) (4.1.2)\n",
      "Requirement already satisfied: typer>=0.9.0 in /home/lillian/anaconda3/envs/week1110/lib/python3.10/site-packages (from chromadb<0.5.0,>=0.4.22->llama-index-vector-stores-chroma<0.2.0,>=0.1.1->llama-index-cli<0.2.0,>=0.1.2->llama_index) (0.9.0)\n",
      "Requirement already satisfied: kubernetes>=28.1.0 in /home/lillian/anaconda3/envs/week1110/lib/python3.10/site-packages (from chromadb<0.5.0,>=0.4.22->llama-index-vector-stores-chroma<0.2.0,>=0.1.1->llama-index-cli<0.2.0,>=0.1.2->llama_index) (29.0.0)\n",
      "Requirement already satisfied: mmh3>=4.0.1 in /home/lillian/anaconda3/envs/week1110/lib/python3.10/site-packages (from chromadb<0.5.0,>=0.4.22->llama-index-vector-stores-chroma<0.2.0,>=0.1.1->llama-index-cli<0.2.0,>=0.1.2->llama_index) (4.1.0)\n",
      "Requirement already satisfied: orjson>=3.9.12 in /home/lillian/.local/lib/python3.10/site-packages (from chromadb<0.5.0,>=0.4.22->llama-index-vector-stores-chroma<0.2.0,>=0.1.1->llama-index-cli<0.2.0,>=0.1.2->llama_index) (3.9.12)\n",
      "Requirement already satisfied: packaging>=17.0 in /home/lillian/.local/lib/python3.10/site-packages (from marshmallow<4.0.0,>=3.18.0->dataclasses-json->llama-index-core<0.11.0,>=0.10.12->llama_index) (23.2)\n",
      "Requirement already satisfied: coloredlogs in /home/lillian/.local/lib/python3.10/site-packages (from onnxruntime<2.0.0,>=1.17.0->llama-index-vector-stores-chroma<0.2.0,>=0.1.1->llama-index-cli<0.2.0,>=0.1.2->llama_index) (15.0.1)\n",
      "Requirement already satisfied: flatbuffers in /home/lillian/.local/lib/python3.10/site-packages (from onnxruntime<2.0.0,>=1.17.0->llama-index-vector-stores-chroma<0.2.0,>=0.1.1->llama-index-cli<0.2.0,>=0.1.2->llama_index) (23.5.26)\n",
      "Requirement already satisfied: protobuf in /home/lillian/.local/lib/python3.10/site-packages (from onnxruntime<2.0.0,>=1.17.0->llama-index-vector-stores-chroma<0.2.0,>=0.1.1->llama-index-cli<0.2.0,>=0.1.2->llama_index) (4.25.2)\n",
      "Requirement already satisfied: sympy in /home/lillian/.local/lib/python3.10/site-packages (from onnxruntime<2.0.0,>=1.17.0->llama-index-vector-stores-chroma<0.2.0,>=0.1.1->llama-index-cli<0.2.0,>=0.1.2->llama_index) (1.12)\n",
      "Requirement already satisfied: annotated-types>=0.4.0 in /home/lillian/anaconda3/envs/week1110/lib/python3.10/site-packages (from pydantic>=1.10->llamaindex-py-client<0.2.0,>=0.1.13->llama-index-core<0.11.0,>=0.10.12->llama_index) (0.6.0)\n",
      "Requirement already satisfied: pydantic-core==2.16.3 in /home/lillian/anaconda3/envs/week1110/lib/python3.10/site-packages (from pydantic>=1.10->llamaindex-py-client<0.2.0,>=0.1.13->llama-index-core<0.11.0,>=0.10.12->llama_index) (2.16.3)\n",
      "Requirement already satisfied: six>=1.5 in /home/lillian/anaconda3/envs/week1110/lib/python3.10/site-packages (from python-dateutil>=2.8.2->pandas->llama-index-core<0.11.0,>=0.10.12->llama_index) (1.16.0)\n",
      "Requirement already satisfied: huggingface_hub<1.0,>=0.16.4 in /home/lillian/.local/lib/python3.10/site-packages (from tokenizers<0.16.0,>=0.15.1->llama-index-vector-stores-chroma<0.2.0,>=0.1.1->llama-index-cli<0.2.0,>=0.1.2->llama_index) (0.20.2)\n",
      "Requirement already satisfied: pyproject_hooks in /home/lillian/anaconda3/envs/week1110/lib/python3.10/site-packages (from build>=1.0.3->chromadb<0.5.0,>=0.4.22->llama-index-vector-stores-chroma<0.2.0,>=0.1.1->llama-index-cli<0.2.0,>=0.1.2->llama_index) (1.0.0)\n",
      "Requirement already satisfied: tomli>=1.1.0 in /home/lillian/.local/lib/python3.10/site-packages (from build>=1.0.3->chromadb<0.5.0,>=0.4.22->llama-index-vector-stores-chroma<0.2.0,>=0.1.1->llama-index-cli<0.2.0,>=0.1.2->llama_index) (2.0.1)\n",
      "Requirement already satisfied: starlette<0.37.0,>=0.36.3 in /home/lillian/anaconda3/envs/week1110/lib/python3.10/site-packages (from fastapi>=0.95.2->chromadb<0.5.0,>=0.4.22->llama-index-vector-stores-chroma<0.2.0,>=0.1.1->llama-index-cli<0.2.0,>=0.1.2->llama_index) (0.36.3)\n",
      "Requirement already satisfied: filelock in /home/lillian/.local/lib/python3.10/site-packages (from huggingface_hub<1.0,>=0.16.4->tokenizers<0.16.0,>=0.15.1->llama-index-vector-stores-chroma<0.2.0,>=0.1.1->llama-index-cli<0.2.0,>=0.1.2->llama_index) (3.13.1)\n",
      "Requirement already satisfied: google-auth>=1.0.1 in /home/lillian/.local/lib/python3.10/site-packages (from kubernetes>=28.1.0->chromadb<0.5.0,>=0.4.22->llama-index-vector-stores-chroma<0.2.0,>=0.1.1->llama-index-cli<0.2.0,>=0.1.2->llama_index) (2.27.0)\n",
      "Requirement already satisfied: websocket-client!=0.40.0,!=0.41.*,!=0.42.*,>=0.32.0 in /home/lillian/.local/lib/python3.10/site-packages (from kubernetes>=28.1.0->chromadb<0.5.0,>=0.4.22->llama-index-vector-stores-chroma<0.2.0,>=0.1.1->llama-index-cli<0.2.0,>=0.1.2->llama_index) (1.7.0)\n",
      "Requirement already satisfied: requests-oauthlib in /home/lillian/.local/lib/python3.10/site-packages (from kubernetes>=28.1.0->chromadb<0.5.0,>=0.4.22->llama-index-vector-stores-chroma<0.2.0,>=0.1.1->llama-index-cli<0.2.0,>=0.1.2->llama_index) (1.3.1)\n",
      "Requirement already satisfied: oauthlib>=3.2.2 in /home/lillian/anaconda3/envs/week1110/lib/python3.10/site-packages (from kubernetes>=28.1.0->chromadb<0.5.0,>=0.4.22->llama-index-vector-stores-chroma<0.2.0,>=0.1.1->llama-index-cli<0.2.0,>=0.1.2->llama_index) (3.2.2)\n",
      "Requirement already satisfied: importlib-metadata<7.0,>=6.0 in /home/lillian/anaconda3/envs/week1110/lib/python3.10/site-packages (from opentelemetry-api>=1.2.0->chromadb<0.5.0,>=0.4.22->llama-index-vector-stores-chroma<0.2.0,>=0.1.1->llama-index-cli<0.2.0,>=0.1.2->llama_index) (6.11.0)\n",
      "Requirement already satisfied: googleapis-common-protos~=1.52 in /home/lillian/anaconda3/envs/week1110/lib/python3.10/site-packages (from opentelemetry-exporter-otlp-proto-grpc>=1.2.0->chromadb<0.5.0,>=0.4.22->llama-index-vector-stores-chroma<0.2.0,>=0.1.1->llama-index-cli<0.2.0,>=0.1.2->llama_index) (1.62.0)\n",
      "Requirement already satisfied: opentelemetry-exporter-otlp-proto-common==1.23.0 in /home/lillian/anaconda3/envs/week1110/lib/python3.10/site-packages (from opentelemetry-exporter-otlp-proto-grpc>=1.2.0->chromadb<0.5.0,>=0.4.22->llama-index-vector-stores-chroma<0.2.0,>=0.1.1->llama-index-cli<0.2.0,>=0.1.2->llama_index) (1.23.0)\n",
      "Requirement already satisfied: opentelemetry-proto==1.23.0 in /home/lillian/anaconda3/envs/week1110/lib/python3.10/site-packages (from opentelemetry-exporter-otlp-proto-grpc>=1.2.0->chromadb<0.5.0,>=0.4.22->llama-index-vector-stores-chroma<0.2.0,>=0.1.1->llama-index-cli<0.2.0,>=0.1.2->llama_index) (1.23.0)\n",
      "Requirement already satisfied: opentelemetry-instrumentation-asgi==0.44b0 in /home/lillian/anaconda3/envs/week1110/lib/python3.10/site-packages (from opentelemetry-instrumentation-fastapi>=0.41b0->chromadb<0.5.0,>=0.4.22->llama-index-vector-stores-chroma<0.2.0,>=0.1.1->llama-index-cli<0.2.0,>=0.1.2->llama_index) (0.44b0)\n",
      "Requirement already satisfied: opentelemetry-instrumentation==0.44b0 in /home/lillian/anaconda3/envs/week1110/lib/python3.10/site-packages (from opentelemetry-instrumentation-fastapi>=0.41b0->chromadb<0.5.0,>=0.4.22->llama-index-vector-stores-chroma<0.2.0,>=0.1.1->llama-index-cli<0.2.0,>=0.1.2->llama_index) (0.44b0)\n",
      "Requirement already satisfied: opentelemetry-semantic-conventions==0.44b0 in /home/lillian/anaconda3/envs/week1110/lib/python3.10/site-packages (from opentelemetry-instrumentation-fastapi>=0.41b0->chromadb<0.5.0,>=0.4.22->llama-index-vector-stores-chroma<0.2.0,>=0.1.1->llama-index-cli<0.2.0,>=0.1.2->llama_index) (0.44b0)\n",
      "Requirement already satisfied: opentelemetry-util-http==0.44b0 in /home/lillian/anaconda3/envs/week1110/lib/python3.10/site-packages (from opentelemetry-instrumentation-fastapi>=0.41b0->chromadb<0.5.0,>=0.4.22->llama-index-vector-stores-chroma<0.2.0,>=0.1.1->llama-index-cli<0.2.0,>=0.1.2->llama_index) (0.44b0)\n",
      "Requirement already satisfied: setuptools>=16.0 in /home/lillian/anaconda3/envs/week1110/lib/python3.10/site-packages (from opentelemetry-instrumentation==0.44b0->opentelemetry-instrumentation-fastapi>=0.41b0->chromadb<0.5.0,>=0.4.22->llama-index-vector-stores-chroma<0.2.0,>=0.1.1->llama-index-cli<0.2.0,>=0.1.2->llama_index) (68.2.2)\n",
      "Requirement already satisfied: asgiref~=3.0 in /home/lillian/anaconda3/envs/week1110/lib/python3.10/site-packages (from opentelemetry-instrumentation-asgi==0.44b0->opentelemetry-instrumentation-fastapi>=0.41b0->chromadb<0.5.0,>=0.4.22->llama-index-vector-stores-chroma<0.2.0,>=0.1.1->llama-index-cli<0.2.0,>=0.1.2->llama_index) (3.7.2)\n",
      "Requirement already satisfied: monotonic>=1.5 in /home/lillian/anaconda3/envs/week1110/lib/python3.10/site-packages (from posthog>=2.4.0->chromadb<0.5.0,>=0.4.22->llama-index-vector-stores-chroma<0.2.0,>=0.1.1->llama-index-cli<0.2.0,>=0.1.2->llama_index) (1.6)\n",
      "Requirement already satisfied: backoff>=1.10.0 in /home/lillian/anaconda3/envs/week1110/lib/python3.10/site-packages (from posthog>=2.4.0->chromadb<0.5.0,>=0.4.22->llama-index-vector-stores-chroma<0.2.0,>=0.1.1->llama-index-cli<0.2.0,>=0.1.2->llama_index) (2.2.1)\n",
      "Requirement already satisfied: httptools>=0.5.0 in /home/lillian/anaconda3/envs/week1110/lib/python3.10/site-packages (from uvicorn[standard]>=0.18.3->chromadb<0.5.0,>=0.4.22->llama-index-vector-stores-chroma<0.2.0,>=0.1.1->llama-index-cli<0.2.0,>=0.1.2->llama_index) (0.6.1)\n",
      "Requirement already satisfied: python-dotenv>=0.13 in /home/lillian/.local/lib/python3.10/site-packages (from uvicorn[standard]>=0.18.3->chromadb<0.5.0,>=0.4.22->llama-index-vector-stores-chroma<0.2.0,>=0.1.1->llama-index-cli<0.2.0,>=0.1.2->llama_index) (1.0.0)\n",
      "Requirement already satisfied: uvloop!=0.15.0,!=0.15.1,>=0.14.0 in /home/lillian/anaconda3/envs/week1110/lib/python3.10/site-packages (from uvicorn[standard]>=0.18.3->chromadb<0.5.0,>=0.4.22->llama-index-vector-stores-chroma<0.2.0,>=0.1.1->llama-index-cli<0.2.0,>=0.1.2->llama_index) (0.19.0)\n",
      "Requirement already satisfied: watchfiles>=0.13 in /home/lillian/anaconda3/envs/week1110/lib/python3.10/site-packages (from uvicorn[standard]>=0.18.3->chromadb<0.5.0,>=0.4.22->llama-index-vector-stores-chroma<0.2.0,>=0.1.1->llama-index-cli<0.2.0,>=0.1.2->llama_index) (0.21.0)\n",
      "Requirement already satisfied: websockets>=10.4 in /home/lillian/anaconda3/envs/week1110/lib/python3.10/site-packages (from uvicorn[standard]>=0.18.3->chromadb<0.5.0,>=0.4.22->llama-index-vector-stores-chroma<0.2.0,>=0.1.1->llama-index-cli<0.2.0,>=0.1.2->llama_index) (12.0)\n",
      "Requirement already satisfied: humanfriendly>=9.1 in /home/lillian/.local/lib/python3.10/site-packages (from coloredlogs->onnxruntime<2.0.0,>=1.17.0->llama-index-vector-stores-chroma<0.2.0,>=0.1.1->llama-index-cli<0.2.0,>=0.1.2->llama_index) (10.0)\n",
      "Requirement already satisfied: mpmath>=0.19 in /home/lillian/.local/lib/python3.10/site-packages (from sympy->onnxruntime<2.0.0,>=1.17.0->llama-index-vector-stores-chroma<0.2.0,>=0.1.1->llama-index-cli<0.2.0,>=0.1.2->llama_index) (1.3.0)\n",
      "Requirement already satisfied: cachetools<6.0,>=2.0.0 in /home/lillian/.local/lib/python3.10/site-packages (from google-auth>=1.0.1->kubernetes>=28.1.0->chromadb<0.5.0,>=0.4.22->llama-index-vector-stores-chroma<0.2.0,>=0.1.1->llama-index-cli<0.2.0,>=0.1.2->llama_index) (5.3.2)\n",
      "Requirement already satisfied: pyasn1-modules>=0.2.1 in /home/lillian/.local/lib/python3.10/site-packages (from google-auth>=1.0.1->kubernetes>=28.1.0->chromadb<0.5.0,>=0.4.22->llama-index-vector-stores-chroma<0.2.0,>=0.1.1->llama-index-cli<0.2.0,>=0.1.2->llama_index) (0.3.0)\n",
      "Requirement already satisfied: rsa<5,>=3.1.4 in /home/lillian/.local/lib/python3.10/site-packages (from google-auth>=1.0.1->kubernetes>=28.1.0->chromadb<0.5.0,>=0.4.22->llama-index-vector-stores-chroma<0.2.0,>=0.1.1->llama-index-cli<0.2.0,>=0.1.2->llama_index) (4.9)\n",
      "Requirement already satisfied: zipp>=0.5 in /home/lillian/anaconda3/envs/week1110/lib/python3.10/site-packages (from importlib-metadata<7.0,>=6.0->opentelemetry-api>=1.2.0->chromadb<0.5.0,>=0.4.22->llama-index-vector-stores-chroma<0.2.0,>=0.1.1->llama-index-cli<0.2.0,>=0.1.2->llama_index) (3.17.0)\n",
      "Requirement already satisfied: pyasn1<0.6.0,>=0.4.6 in /home/lillian/.local/lib/python3.10/site-packages (from pyasn1-modules>=0.2.1->google-auth>=1.0.1->kubernetes>=28.1.0->chromadb<0.5.0,>=0.4.22->llama-index-vector-stores-chroma<0.2.0,>=0.1.1->llama-index-cli<0.2.0,>=0.1.2->llama_index) (0.5.1)\n"
     ]
    }
   ],
   "source": [
    "!pip install llama_index"
   ]
  }
 ],
 "metadata": {
  "kernelspec": {
   "display_name": "Python 3",
   "language": "python",
   "name": "python3"
  },
  "language_info": {
   "codemirror_mode": {
    "name": "ipython",
    "version": 3
   },
   "file_extension": ".py",
   "mimetype": "text/x-python",
   "name": "python",
   "nbconvert_exporter": "python",
   "pygments_lexer": "ipython3",
   "version": "3.10.13"
  }
 },
 "nbformat": 4,
 "nbformat_minor": 2
}
